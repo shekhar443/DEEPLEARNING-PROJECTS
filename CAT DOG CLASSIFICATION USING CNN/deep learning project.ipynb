{
 "cells": [
  {
   "cell_type": "markdown",
   "id": "b968b80c",
   "metadata": {},
   "source": [
    "# Pet Classification Model Using CNN"
   ]
  },
  {
   "cell_type": "code",
   "execution_count": null,
   "id": "791c04d2",
   "metadata": {},
   "outputs": [],
   "source": [
    "# importing required libraries\n",
    "import pandas as pd\n",
    "import numpy as np\n",
    "import matplotlib.pyplot as plt\n",
    "import seaborn as sns\n",
    "import tensorflow as tf\n",
    "import os\n",
    "import cv2\n",
    "import pickle\n",
    "import random\n",
    "from tensorflow.keras.models import Sequential\n",
    "from tensorflow.keras.layers import Dense,Flatten,Activation,Conv2D,MaxPooling2D,Dropout"
   ]
  },
  {
   "cell_type": "code",
   "execution_count": null,
   "id": "131af2c5",
   "metadata": {},
   "outputs": [],
   "source": [
    "# training data\n",
    "DIRECTIORY = r\"E:\\deep learning\\data\\train\"\n",
    "CATEGORIES = ['cats','dogs']\n",
    "#testing data\n",
    "DIRECTIORY1 = r\"E:\\deep learning\\data\\test\"\n",
    "CATEGORIES1 = ['cats','dogs']"
   ]
  },
  {
   "cell_type": "code",
   "execution_count": null,
   "id": "d9613d0b",
   "metadata": {},
   "outputs": [],
   "source": [
    "# resizeing image and forming training data \n",
    "img_size=100\n",
    "data_training=[]\n",
    "for i in CATEGORIES:\n",
    "    folder=os.path.join(DIRECTIORY,i)\n",
    "    label=CATEGORIES.index(i)\n",
    "    for img in os.listdir(folder):\n",
    "        img_path=os.path.join(folder,img)\n",
    "        img_arr=cv2.imread(img_path)\n",
    "        img_arr=cv2.resize(img_arr,(img_size,img_size))\n",
    "        # plt.imshow(img_arr)\n",
    "        data_training.append([img_arr,label])"
   ]
  },
  {
   "cell_type": "code",
   "execution_count": null,
   "id": "db7bb58a",
   "metadata": {},
   "outputs": [],
   "source": [
    "# resizeing image and forming testing data \n",
    "img_size=100\n",
    "data_testing=[]\n",
    "for i in CATEGORIES1:\n",
    "    folder=os.path.join(DIRECTIORY1,i)\n",
    "    label=CATEGORIES1.index(i)\n",
    "    for img in os.listdir(folder):\n",
    "        img_path=os.path.join(folder,img)\n",
    "        img_arr=cv2.imread(img_path)\n",
    "        img_arr=cv2.resize(img_arr,(img_size,img_size))\n",
    "        # plt.imshow(img_arr)\n",
    "        data_testing.append([img_arr,label])"
   ]
  },
  {
   "cell_type": "code",
   "execution_count": null,
   "id": "f26bca04",
   "metadata": {},
   "outputs": [],
   "source": [
    "# combined categories of testing data\n",
    "len(data_testing)"
   ]
  },
  {
   "cell_type": "code",
   "execution_count": null,
   "id": "474e29fd",
   "metadata": {},
   "outputs": [],
   "source": [
    "# combined categories of training data\n",
    "len(data_training)"
   ]
  },
  {
   "cell_type": "code",
   "execution_count": null,
   "id": "248e27e0",
   "metadata": {},
   "outputs": [],
   "source": [
    "# shfulling train and test data\n",
    "random.shuffle(data_testing)\n",
    "random.shuffle(data_training)"
   ]
  },
  {
   "cell_type": "code",
   "execution_count": null,
   "id": "0ab356d1",
   "metadata": {},
   "outputs": [],
   "source": [
    "# splitting features and labels of training data\n",
    "X_train=[]\n",
    "y_train=[]\n",
    "for features,labels in data_training:\n",
    "    X_train.append(features)\n",
    "    y_train.append(labels)  "
   ]
  },
  {
   "cell_type": "code",
   "execution_count": null,
   "id": "9b4816bd",
   "metadata": {},
   "outputs": [],
   "source": [
    "# splitting features and labels of testing data\n",
    "X_test=[]\n",
    "y_test=[]\n",
    "for features,labels in data_testing:\n",
    "    X_test.append(features)\n",
    "    y_test.append(labels)\n",
    "    \n",
    "  "
   ]
  },
  {
   "cell_type": "code",
   "execution_count": null,
   "id": "01ec06d0",
   "metadata": {},
   "outputs": [],
   "source": [
    "# conversion into arry form\n",
    "X_train=np.array(X_train)\n",
    "y_train=np.array(y_train)"
   ]
  },
  {
   "cell_type": "code",
   "execution_count": null,
   "id": "cf5b670d",
   "metadata": {},
   "outputs": [],
   "source": [
    "# conversion into arry form\n",
    "X_test=np.array(X_test)\n",
    "y_test=np.array(y_test)"
   ]
  },
  {
   "cell_type": "code",
   "execution_count": null,
   "id": "89ca330b",
   "metadata": {},
   "outputs": [],
   "source": [
    "# saving of trining data\n",
    "pickle.dump(X_train,open('X_train.pkl','wb'))\n",
    "pickle.dump(y_train,open('y_train.pkl','wb'))"
   ]
  },
  {
   "cell_type": "code",
   "execution_count": null,
   "id": "df017746",
   "metadata": {},
   "outputs": [],
   "source": [
    "# saving of testing data\n",
    "pickle.dump(X_test,open('X_test.pkl','wb'))\n",
    "pickle.dump(y_test,open('y_test.pkl','wb'))"
   ]
  },
  {
   "cell_type": "code",
   "execution_count": null,
   "id": "a8c7a3bd",
   "metadata": {},
   "outputs": [],
   "source": [
    "# Normalization of training and testing data\n",
    "X_train=X_train/255.0\n",
    "X_test=X_test/255.0"
   ]
  },
  {
   "cell_type": "code",
   "execution_count": null,
   "id": "4576ec99",
   "metadata": {},
   "outputs": [],
   "source": [
    "# creating a deeplearing network using CNN \n",
    "model=Sequential()\n",
    "model.add(Conv2D(32,(5,5),activation='relu'))\n",
    "model.add(MaxPooling2D(pool_size=(2,2),strides=2))\n",
    "model.add(Conv2D(64,(5,5),activation='relu'))\n",
    "model.add(MaxPooling2D(pool_size=(2,2),strides=2))\n",
    "model.add(Flatten())\n",
    "model.add(Dense(1,activation='sigmoid'))\n",
    "model.add(Dropout(0.4))\n",
    "model.compile(optimizer='adam',\n",
    "             loss=\"binary_crossentropy\",\n",
    "             metrics=[\"accuracy\"])"
   ]
  },
  {
   "cell_type": "code",
   "execution_count": null,
   "id": "ed10c84c",
   "metadata": {},
   "outputs": [],
   "source": [
    "## early stopping\n",
    "early_stopping=tf.keras.callbacks.EarlyStopping(\n",
    "    monitor='val_loss',\n",
    "    min_delta=0.0001,\n",
    "    patience=20,\n",
    "    verbose=1,\n",
    "    mode='auto',\n",
    "    baseline=None,\n",
    "    restore_best_weights=False\n",
    ")"
   ]
  },
  {
   "cell_type": "code",
   "execution_count": null,
   "id": "abc3c037",
   "metadata": {},
   "outputs": [],
   "source": [
    "# training using 10 epochs\n",
    "model_epch_10=model.fit(X,y,epochs=10, batch_size=30, validation_split=0.2)"
   ]
  },
  {
   "cell_type": "code",
   "execution_count": null,
   "id": "c6ad9ce4",
   "metadata": {},
   "outputs": [],
   "source": [
    "# training using 10 epochs\n",
    "model_epch_100=model.fit(X,y,epochs=100, batch_size=30, validation_split=0.2)"
   ]
  },
  {
   "cell_type": "code",
   "execution_count": null,
   "id": "24bc279c",
   "metadata": {},
   "outputs": [],
   "source": [
    "# training using 10 epochs\n",
    "model_epch_200=model.fit(X,y,epochs=200, batch_size=30, validation_split=0.2)"
   ]
  },
  {
   "cell_type": "code",
   "execution_count": null,
   "id": "b30b8230",
   "metadata": {},
   "outputs": [],
   "source": [
    "# model keys\n",
    "model_epch_100.history.keys()"
   ]
  },
  {
   "cell_type": "code",
   "execution_count": null,
   "id": "4bfe44ca",
   "metadata": {},
   "outputs": [],
   "source": [
    "# summarize history for accuracy model_epch_10\n",
    "plt.plot( model_epch_10.history['accuracy'])\n",
    "plt.plot( model_epch_10.history['val_accuracy'])\n",
    "plt.title(\"model accuracy\")\n",
    "plt.xlabel(\"epoch\")\n",
    "plt.ylabel(\"accuracy\")\n",
    "plt.legend(['train','test'])\n",
    "plt.show()"
   ]
  },
  {
   "cell_type": "code",
   "execution_count": null,
   "id": "4408c879",
   "metadata": {
    "scrolled": true
   },
   "outputs": [],
   "source": [
    "# summarize history for loss model_epch_10\n",
    "plt.plot( model_epch_10.history['loss'])\n",
    "plt.plot( model_epch_10.history['val_loss'])\n",
    "plt.title(\"model loss\")\n",
    "plt.xlabel(\"epoch\")\n",
    "plt.ylabel(\"loss\")\n",
    "plt.legend(['train','test'])\n",
    "plt.show()"
   ]
  },
  {
   "cell_type": "code",
   "execution_count": null,
   "id": "963901eb",
   "metadata": {},
   "outputs": [],
   "source": [
    "# summarize history for accuracy model_epch_100\n",
    "plt.plot( model_epch_100.history['accuracy'])\n",
    "plt.plot( model_epch_100.history['val_accuracy'])\n",
    "plt.title(\"model accuracy\")\n",
    "plt.xlabel(\"epoch\")\n",
    "plt.ylabel(\"accuracy\")\n",
    "plt.legend(['train','test'])\n",
    "plt.show()"
   ]
  },
  {
   "cell_type": "code",
   "execution_count": null,
   "id": "6303ed0c",
   "metadata": {},
   "outputs": [],
   "source": [
    "# summarize history for loss model_epch_100\n",
    "plt.plot( model_epch_100.history['loss'])\n",
    "plt.plot( model_epch_100.history['val_loss'])\n",
    "plt.title(\"model loss\")\n",
    "plt.xlabel(\"epoch\")\n",
    "plt.ylabel(\"loss\")\n",
    "plt.legend(['train','test'])\n",
    "plt.show()"
   ]
  },
  {
   "cell_type": "code",
   "execution_count": null,
   "id": "44719319",
   "metadata": {},
   "outputs": [],
   "source": [
    "# summarize history for accuracy model_epch_200\n",
    "plt.plot( model_epch_200.history['accuracy'])\n",
    "plt.plot( model_epch_200.history['val_accuracy'])\n",
    "plt.title(\"model accuracy\")\n",
    "plt.xlabel(\"epoch\")\n",
    "plt.ylabel(\"accuracy\")\n",
    "plt.legend(['train','test'])\n",
    "plt.show()"
   ]
  },
  {
   "cell_type": "code",
   "execution_count": null,
   "id": "bf57d1bf",
   "metadata": {},
   "outputs": [],
   "source": [
    "# summarize history for loss model_epch_200\n",
    "plt.plot( model_epch_200.history['loss'])\n",
    "plt.plot( model_epch_200.history['val_loss'])\n",
    "plt.title(\"model loss\")\n",
    "plt.xlabel(\"epoch\")\n",
    "plt.ylabel(\"loss\")\n",
    "plt.legend(['train','test'])\n",
    "plt.show()"
   ]
  }
 ],
 "metadata": {
  "kernelspec": {
   "display_name": "Python 3 (ipykernel)",
   "language": "python",
   "name": "python3"
  },
  "language_info": {
   "codemirror_mode": {
    "name": "ipython",
    "version": 3
   },
   "file_extension": ".py",
   "mimetype": "text/x-python",
   "name": "python",
   "nbconvert_exporter": "python",
   "pygments_lexer": "ipython3",
   "version": "3.9.12"
  },
  "latex_envs": {
   "LaTeX_envs_menu_present": true,
   "autoclose": false,
   "autocomplete": true,
   "bibliofile": "biblio.bib",
   "cite_by": "apalike",
   "current_citInitial": 1,
   "eqLabelWithNumbers": true,
   "eqNumInitial": 1,
   "hotkeys": {
    "equation": "Ctrl-E",
    "itemize": "Ctrl-I"
   },
   "labels_anchors": false,
   "latex_user_defs": false,
   "report_style_numbering": false,
   "user_envs_cfg": false
  },
  "varInspector": {
   "cols": {
    "lenName": 16,
    "lenType": 16,
    "lenVar": 40
   },
   "kernels_config": {
    "python": {
     "delete_cmd_postfix": "",
     "delete_cmd_prefix": "del ",
     "library": "var_list.py",
     "varRefreshCmd": "print(var_dic_list())"
    },
    "r": {
     "delete_cmd_postfix": ") ",
     "delete_cmd_prefix": "rm(",
     "library": "var_list.r",
     "varRefreshCmd": "cat(var_dic_list()) "
    }
   },
   "types_to_exclude": [
    "module",
    "function",
    "builtin_function_or_method",
    "instance",
    "_Feature"
   ],
   "window_display": false
  }
 },
 "nbformat": 4,
 "nbformat_minor": 5
}
