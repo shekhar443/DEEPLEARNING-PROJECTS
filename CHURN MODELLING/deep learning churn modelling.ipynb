{
 "cells": [
  {
   "cell_type": "code",
   "execution_count": 140,
   "id": "496f43d3",
   "metadata": {},
   "outputs": [],
   "source": [
    "import pandas as pd"
   ]
  },
  {
   "cell_type": "code",
   "execution_count": 141,
   "id": "c06bb162",
   "metadata": {},
   "outputs": [],
   "source": [
    "import tensorflow"
   ]
  },
  {
   "cell_type": "code",
   "execution_count": 142,
   "id": "d8f94d78",
   "metadata": {},
   "outputs": [],
   "source": [
    "import numpy as np"
   ]
  },
  {
   "cell_type": "code",
   "execution_count": 143,
   "id": "ad8edae5",
   "metadata": {},
   "outputs": [],
   "source": [
    "import matplotlib.pyplot as plt"
   ]
  },
  {
   "cell_type": "code",
   "execution_count": 144,
   "id": "2dead16e",
   "metadata": {},
   "outputs": [],
   "source": [
    "import seaborn as sns\n",
    "import warnings\n",
    "warnings.filterwarnings(\"ignore\")"
   ]
  },
  {
   "cell_type": "code",
   "execution_count": 145,
   "id": "cfdae3cc",
   "metadata": {},
   "outputs": [],
   "source": [
    "df=pd.read_csv(\"Churn_Modelling.csv\")"
   ]
  },
  {
   "cell_type": "code",
   "execution_count": 146,
   "id": "2b129f61",
   "metadata": {},
   "outputs": [
    {
     "data": {
      "text/html": [
       "<div>\n",
       "<style scoped>\n",
       "    .dataframe tbody tr th:only-of-type {\n",
       "        vertical-align: middle;\n",
       "    }\n",
       "\n",
       "    .dataframe tbody tr th {\n",
       "        vertical-align: top;\n",
       "    }\n",
       "\n",
       "    .dataframe thead th {\n",
       "        text-align: right;\n",
       "    }\n",
       "</style>\n",
       "<table border=\"1\" class=\"dataframe\">\n",
       "  <thead>\n",
       "    <tr style=\"text-align: right;\">\n",
       "      <th></th>\n",
       "      <th>RowNumber</th>\n",
       "      <th>CustomerId</th>\n",
       "      <th>Surname</th>\n",
       "      <th>CreditScore</th>\n",
       "      <th>Geography</th>\n",
       "      <th>Gender</th>\n",
       "      <th>Age</th>\n",
       "      <th>Tenure</th>\n",
       "      <th>Balance</th>\n",
       "      <th>NumOfProducts</th>\n",
       "      <th>HasCrCard</th>\n",
       "      <th>IsActiveMember</th>\n",
       "      <th>EstimatedSalary</th>\n",
       "      <th>Exited</th>\n",
       "    </tr>\n",
       "  </thead>\n",
       "  <tbody>\n",
       "    <tr>\n",
       "      <th>0</th>\n",
       "      <td>1</td>\n",
       "      <td>15634602</td>\n",
       "      <td>Hargrave</td>\n",
       "      <td>619</td>\n",
       "      <td>France</td>\n",
       "      <td>Female</td>\n",
       "      <td>42</td>\n",
       "      <td>2</td>\n",
       "      <td>0.00</td>\n",
       "      <td>1</td>\n",
       "      <td>1</td>\n",
       "      <td>1</td>\n",
       "      <td>101348.88</td>\n",
       "      <td>1</td>\n",
       "    </tr>\n",
       "    <tr>\n",
       "      <th>1</th>\n",
       "      <td>2</td>\n",
       "      <td>15647311</td>\n",
       "      <td>Hill</td>\n",
       "      <td>608</td>\n",
       "      <td>Spain</td>\n",
       "      <td>Female</td>\n",
       "      <td>41</td>\n",
       "      <td>1</td>\n",
       "      <td>83807.86</td>\n",
       "      <td>1</td>\n",
       "      <td>0</td>\n",
       "      <td>1</td>\n",
       "      <td>112542.58</td>\n",
       "      <td>0</td>\n",
       "    </tr>\n",
       "    <tr>\n",
       "      <th>2</th>\n",
       "      <td>3</td>\n",
       "      <td>15619304</td>\n",
       "      <td>Onio</td>\n",
       "      <td>502</td>\n",
       "      <td>France</td>\n",
       "      <td>Female</td>\n",
       "      <td>42</td>\n",
       "      <td>8</td>\n",
       "      <td>159660.80</td>\n",
       "      <td>3</td>\n",
       "      <td>1</td>\n",
       "      <td>0</td>\n",
       "      <td>113931.57</td>\n",
       "      <td>1</td>\n",
       "    </tr>\n",
       "    <tr>\n",
       "      <th>3</th>\n",
       "      <td>4</td>\n",
       "      <td>15701354</td>\n",
       "      <td>Boni</td>\n",
       "      <td>699</td>\n",
       "      <td>France</td>\n",
       "      <td>Female</td>\n",
       "      <td>39</td>\n",
       "      <td>1</td>\n",
       "      <td>0.00</td>\n",
       "      <td>2</td>\n",
       "      <td>0</td>\n",
       "      <td>0</td>\n",
       "      <td>93826.63</td>\n",
       "      <td>0</td>\n",
       "    </tr>\n",
       "    <tr>\n",
       "      <th>4</th>\n",
       "      <td>5</td>\n",
       "      <td>15737888</td>\n",
       "      <td>Mitchell</td>\n",
       "      <td>850</td>\n",
       "      <td>Spain</td>\n",
       "      <td>Female</td>\n",
       "      <td>43</td>\n",
       "      <td>2</td>\n",
       "      <td>125510.82</td>\n",
       "      <td>1</td>\n",
       "      <td>1</td>\n",
       "      <td>1</td>\n",
       "      <td>79084.10</td>\n",
       "      <td>0</td>\n",
       "    </tr>\n",
       "  </tbody>\n",
       "</table>\n",
       "</div>"
      ],
      "text/plain": [
       "   RowNumber  CustomerId   Surname  CreditScore Geography  Gender  Age  \\\n",
       "0          1    15634602  Hargrave          619    France  Female   42   \n",
       "1          2    15647311      Hill          608     Spain  Female   41   \n",
       "2          3    15619304      Onio          502    France  Female   42   \n",
       "3          4    15701354      Boni          699    France  Female   39   \n",
       "4          5    15737888  Mitchell          850     Spain  Female   43   \n",
       "\n",
       "   Tenure    Balance  NumOfProducts  HasCrCard  IsActiveMember  \\\n",
       "0       2       0.00              1          1               1   \n",
       "1       1   83807.86              1          0               1   \n",
       "2       8  159660.80              3          1               0   \n",
       "3       1       0.00              2          0               0   \n",
       "4       2  125510.82              1          1               1   \n",
       "\n",
       "   EstimatedSalary  Exited  \n",
       "0        101348.88       1  \n",
       "1        112542.58       0  \n",
       "2        113931.57       1  \n",
       "3         93826.63       0  \n",
       "4         79084.10       0  "
      ]
     },
     "execution_count": 146,
     "metadata": {},
     "output_type": "execute_result"
    }
   ],
   "source": [
    "df.head()"
   ]
  },
  {
   "cell_type": "code",
   "execution_count": 147,
   "id": "34cd554f",
   "metadata": {},
   "outputs": [],
   "source": [
    "X=df.iloc[:,3:13]"
   ]
  },
  {
   "cell_type": "code",
   "execution_count": 148,
   "id": "5fa8cd08",
   "metadata": {},
   "outputs": [],
   "source": [
    "y=df.iloc[:,13]"
   ]
  },
  {
   "cell_type": "code",
   "execution_count": 149,
   "id": "17a9d1b3",
   "metadata": {},
   "outputs": [
    {
     "data": {
      "text/html": [
       "<div>\n",
       "<style scoped>\n",
       "    .dataframe tbody tr th:only-of-type {\n",
       "        vertical-align: middle;\n",
       "    }\n",
       "\n",
       "    .dataframe tbody tr th {\n",
       "        vertical-align: top;\n",
       "    }\n",
       "\n",
       "    .dataframe thead th {\n",
       "        text-align: right;\n",
       "    }\n",
       "</style>\n",
       "<table border=\"1\" class=\"dataframe\">\n",
       "  <thead>\n",
       "    <tr style=\"text-align: right;\">\n",
       "      <th></th>\n",
       "      <th>CreditScore</th>\n",
       "      <th>Geography</th>\n",
       "      <th>Gender</th>\n",
       "      <th>Age</th>\n",
       "      <th>Tenure</th>\n",
       "      <th>Balance</th>\n",
       "      <th>NumOfProducts</th>\n",
       "      <th>HasCrCard</th>\n",
       "      <th>IsActiveMember</th>\n",
       "      <th>EstimatedSalary</th>\n",
       "    </tr>\n",
       "  </thead>\n",
       "  <tbody>\n",
       "    <tr>\n",
       "      <th>0</th>\n",
       "      <td>619</td>\n",
       "      <td>France</td>\n",
       "      <td>Female</td>\n",
       "      <td>42</td>\n",
       "      <td>2</td>\n",
       "      <td>0.00</td>\n",
       "      <td>1</td>\n",
       "      <td>1</td>\n",
       "      <td>1</td>\n",
       "      <td>101348.88</td>\n",
       "    </tr>\n",
       "    <tr>\n",
       "      <th>1</th>\n",
       "      <td>608</td>\n",
       "      <td>Spain</td>\n",
       "      <td>Female</td>\n",
       "      <td>41</td>\n",
       "      <td>1</td>\n",
       "      <td>83807.86</td>\n",
       "      <td>1</td>\n",
       "      <td>0</td>\n",
       "      <td>1</td>\n",
       "      <td>112542.58</td>\n",
       "    </tr>\n",
       "    <tr>\n",
       "      <th>2</th>\n",
       "      <td>502</td>\n",
       "      <td>France</td>\n",
       "      <td>Female</td>\n",
       "      <td>42</td>\n",
       "      <td>8</td>\n",
       "      <td>159660.80</td>\n",
       "      <td>3</td>\n",
       "      <td>1</td>\n",
       "      <td>0</td>\n",
       "      <td>113931.57</td>\n",
       "    </tr>\n",
       "    <tr>\n",
       "      <th>3</th>\n",
       "      <td>699</td>\n",
       "      <td>France</td>\n",
       "      <td>Female</td>\n",
       "      <td>39</td>\n",
       "      <td>1</td>\n",
       "      <td>0.00</td>\n",
       "      <td>2</td>\n",
       "      <td>0</td>\n",
       "      <td>0</td>\n",
       "      <td>93826.63</td>\n",
       "    </tr>\n",
       "    <tr>\n",
       "      <th>4</th>\n",
       "      <td>850</td>\n",
       "      <td>Spain</td>\n",
       "      <td>Female</td>\n",
       "      <td>43</td>\n",
       "      <td>2</td>\n",
       "      <td>125510.82</td>\n",
       "      <td>1</td>\n",
       "      <td>1</td>\n",
       "      <td>1</td>\n",
       "      <td>79084.10</td>\n",
       "    </tr>\n",
       "    <tr>\n",
       "      <th>...</th>\n",
       "      <td>...</td>\n",
       "      <td>...</td>\n",
       "      <td>...</td>\n",
       "      <td>...</td>\n",
       "      <td>...</td>\n",
       "      <td>...</td>\n",
       "      <td>...</td>\n",
       "      <td>...</td>\n",
       "      <td>...</td>\n",
       "      <td>...</td>\n",
       "    </tr>\n",
       "    <tr>\n",
       "      <th>9995</th>\n",
       "      <td>771</td>\n",
       "      <td>France</td>\n",
       "      <td>Male</td>\n",
       "      <td>39</td>\n",
       "      <td>5</td>\n",
       "      <td>0.00</td>\n",
       "      <td>2</td>\n",
       "      <td>1</td>\n",
       "      <td>0</td>\n",
       "      <td>96270.64</td>\n",
       "    </tr>\n",
       "    <tr>\n",
       "      <th>9996</th>\n",
       "      <td>516</td>\n",
       "      <td>France</td>\n",
       "      <td>Male</td>\n",
       "      <td>35</td>\n",
       "      <td>10</td>\n",
       "      <td>57369.61</td>\n",
       "      <td>1</td>\n",
       "      <td>1</td>\n",
       "      <td>1</td>\n",
       "      <td>101699.77</td>\n",
       "    </tr>\n",
       "    <tr>\n",
       "      <th>9997</th>\n",
       "      <td>709</td>\n",
       "      <td>France</td>\n",
       "      <td>Female</td>\n",
       "      <td>36</td>\n",
       "      <td>7</td>\n",
       "      <td>0.00</td>\n",
       "      <td>1</td>\n",
       "      <td>0</td>\n",
       "      <td>1</td>\n",
       "      <td>42085.58</td>\n",
       "    </tr>\n",
       "    <tr>\n",
       "      <th>9998</th>\n",
       "      <td>772</td>\n",
       "      <td>Germany</td>\n",
       "      <td>Male</td>\n",
       "      <td>42</td>\n",
       "      <td>3</td>\n",
       "      <td>75075.31</td>\n",
       "      <td>2</td>\n",
       "      <td>1</td>\n",
       "      <td>0</td>\n",
       "      <td>92888.52</td>\n",
       "    </tr>\n",
       "    <tr>\n",
       "      <th>9999</th>\n",
       "      <td>792</td>\n",
       "      <td>France</td>\n",
       "      <td>Female</td>\n",
       "      <td>28</td>\n",
       "      <td>4</td>\n",
       "      <td>130142.79</td>\n",
       "      <td>1</td>\n",
       "      <td>1</td>\n",
       "      <td>0</td>\n",
       "      <td>38190.78</td>\n",
       "    </tr>\n",
       "  </tbody>\n",
       "</table>\n",
       "<p>10000 rows × 10 columns</p>\n",
       "</div>"
      ],
      "text/plain": [
       "      CreditScore Geography  Gender  Age  Tenure    Balance  NumOfProducts  \\\n",
       "0             619    France  Female   42       2       0.00              1   \n",
       "1             608     Spain  Female   41       1   83807.86              1   \n",
       "2             502    France  Female   42       8  159660.80              3   \n",
       "3             699    France  Female   39       1       0.00              2   \n",
       "4             850     Spain  Female   43       2  125510.82              1   \n",
       "...           ...       ...     ...  ...     ...        ...            ...   \n",
       "9995          771    France    Male   39       5       0.00              2   \n",
       "9996          516    France    Male   35      10   57369.61              1   \n",
       "9997          709    France  Female   36       7       0.00              1   \n",
       "9998          772   Germany    Male   42       3   75075.31              2   \n",
       "9999          792    France  Female   28       4  130142.79              1   \n",
       "\n",
       "      HasCrCard  IsActiveMember  EstimatedSalary  \n",
       "0             1               1        101348.88  \n",
       "1             0               1        112542.58  \n",
       "2             1               0        113931.57  \n",
       "3             0               0         93826.63  \n",
       "4             1               1         79084.10  \n",
       "...         ...             ...              ...  \n",
       "9995          1               0         96270.64  \n",
       "9996          1               1        101699.77  \n",
       "9997          0               1         42085.58  \n",
       "9998          1               0         92888.52  \n",
       "9999          1               0         38190.78  \n",
       "\n",
       "[10000 rows x 10 columns]"
      ]
     },
     "execution_count": 149,
     "metadata": {},
     "output_type": "execute_result"
    }
   ],
   "source": [
    "X"
   ]
  },
  {
   "cell_type": "code",
   "execution_count": 150,
   "id": "26d2ef74",
   "metadata": {},
   "outputs": [
    {
     "data": {
      "text/plain": [
       "0       1\n",
       "1       0\n",
       "2       1\n",
       "3       0\n",
       "4       0\n",
       "       ..\n",
       "9995    0\n",
       "9996    0\n",
       "9997    1\n",
       "9998    1\n",
       "9999    0\n",
       "Name: Exited, Length: 10000, dtype: int64"
      ]
     },
     "execution_count": 150,
     "metadata": {},
     "output_type": "execute_result"
    }
   ],
   "source": [
    "y"
   ]
  },
  {
   "cell_type": "code",
   "execution_count": 151,
   "id": "d4c25e9f",
   "metadata": {},
   "outputs": [],
   "source": [
    "X[\"gender\"]=pd.get_dummies(X[\"Gender\"],drop_first=True)"
   ]
  },
  {
   "cell_type": "code",
   "execution_count": 152,
   "id": "1c38f653",
   "metadata": {},
   "outputs": [],
   "source": [
    "geography=pd.get_dummies(X[\"Geography\"],drop_first=True)"
   ]
  },
  {
   "cell_type": "code",
   "execution_count": 153,
   "id": "a6abdacd",
   "metadata": {},
   "outputs": [],
   "source": [
    "X=pd.concat([X,geography],axis=1)"
   ]
  },
  {
   "cell_type": "code",
   "execution_count": 154,
   "id": "9713082e",
   "metadata": {},
   "outputs": [],
   "source": [
    "X.drop([\"Geography\",\"Gender\"],axis=1,inplace=True)"
   ]
  },
  {
   "cell_type": "code",
   "execution_count": 155,
   "id": "632a64b5",
   "metadata": {},
   "outputs": [
    {
     "data": {
      "text/html": [
       "<div>\n",
       "<style scoped>\n",
       "    .dataframe tbody tr th:only-of-type {\n",
       "        vertical-align: middle;\n",
       "    }\n",
       "\n",
       "    .dataframe tbody tr th {\n",
       "        vertical-align: top;\n",
       "    }\n",
       "\n",
       "    .dataframe thead th {\n",
       "        text-align: right;\n",
       "    }\n",
       "</style>\n",
       "<table border=\"1\" class=\"dataframe\">\n",
       "  <thead>\n",
       "    <tr style=\"text-align: right;\">\n",
       "      <th></th>\n",
       "      <th>CreditScore</th>\n",
       "      <th>Age</th>\n",
       "      <th>Tenure</th>\n",
       "      <th>Balance</th>\n",
       "      <th>NumOfProducts</th>\n",
       "      <th>HasCrCard</th>\n",
       "      <th>IsActiveMember</th>\n",
       "      <th>EstimatedSalary</th>\n",
       "      <th>gender</th>\n",
       "      <th>Germany</th>\n",
       "      <th>Spain</th>\n",
       "    </tr>\n",
       "  </thead>\n",
       "  <tbody>\n",
       "    <tr>\n",
       "      <th>0</th>\n",
       "      <td>619</td>\n",
       "      <td>42</td>\n",
       "      <td>2</td>\n",
       "      <td>0.00</td>\n",
       "      <td>1</td>\n",
       "      <td>1</td>\n",
       "      <td>1</td>\n",
       "      <td>101348.88</td>\n",
       "      <td>0</td>\n",
       "      <td>0</td>\n",
       "      <td>0</td>\n",
       "    </tr>\n",
       "    <tr>\n",
       "      <th>1</th>\n",
       "      <td>608</td>\n",
       "      <td>41</td>\n",
       "      <td>1</td>\n",
       "      <td>83807.86</td>\n",
       "      <td>1</td>\n",
       "      <td>0</td>\n",
       "      <td>1</td>\n",
       "      <td>112542.58</td>\n",
       "      <td>0</td>\n",
       "      <td>0</td>\n",
       "      <td>1</td>\n",
       "    </tr>\n",
       "    <tr>\n",
       "      <th>2</th>\n",
       "      <td>502</td>\n",
       "      <td>42</td>\n",
       "      <td>8</td>\n",
       "      <td>159660.80</td>\n",
       "      <td>3</td>\n",
       "      <td>1</td>\n",
       "      <td>0</td>\n",
       "      <td>113931.57</td>\n",
       "      <td>0</td>\n",
       "      <td>0</td>\n",
       "      <td>0</td>\n",
       "    </tr>\n",
       "    <tr>\n",
       "      <th>3</th>\n",
       "      <td>699</td>\n",
       "      <td>39</td>\n",
       "      <td>1</td>\n",
       "      <td>0.00</td>\n",
       "      <td>2</td>\n",
       "      <td>0</td>\n",
       "      <td>0</td>\n",
       "      <td>93826.63</td>\n",
       "      <td>0</td>\n",
       "      <td>0</td>\n",
       "      <td>0</td>\n",
       "    </tr>\n",
       "    <tr>\n",
       "      <th>4</th>\n",
       "      <td>850</td>\n",
       "      <td>43</td>\n",
       "      <td>2</td>\n",
       "      <td>125510.82</td>\n",
       "      <td>1</td>\n",
       "      <td>1</td>\n",
       "      <td>1</td>\n",
       "      <td>79084.10</td>\n",
       "      <td>0</td>\n",
       "      <td>0</td>\n",
       "      <td>1</td>\n",
       "    </tr>\n",
       "  </tbody>\n",
       "</table>\n",
       "</div>"
      ],
      "text/plain": [
       "   CreditScore  Age  Tenure    Balance  NumOfProducts  HasCrCard  \\\n",
       "0          619   42       2       0.00              1          1   \n",
       "1          608   41       1   83807.86              1          0   \n",
       "2          502   42       8  159660.80              3          1   \n",
       "3          699   39       1       0.00              2          0   \n",
       "4          850   43       2  125510.82              1          1   \n",
       "\n",
       "   IsActiveMember  EstimatedSalary  gender  Germany  Spain  \n",
       "0               1        101348.88       0        0      0  \n",
       "1               1        112542.58       0        0      1  \n",
       "2               0        113931.57       0        0      0  \n",
       "3               0         93826.63       0        0      0  \n",
       "4               1         79084.10       0        0      1  "
      ]
     },
     "execution_count": 155,
     "metadata": {},
     "output_type": "execute_result"
    }
   ],
   "source": [
    "X.head()"
   ]
  },
  {
   "cell_type": "code",
   "execution_count": 156,
   "id": "f8f8364a",
   "metadata": {},
   "outputs": [],
   "source": [
    "df[\"estimated salary\"]=df.drop(\"EstimatedSalary\",axis=1,inplace=True)"
   ]
  },
  {
   "cell_type": "code",
   "execution_count": 157,
   "id": "568326ed",
   "metadata": {},
   "outputs": [
    {
     "data": {
      "text/plain": [
       "0       1\n",
       "1       0\n",
       "2       1\n",
       "3       0\n",
       "4       0\n",
       "       ..\n",
       "9995    0\n",
       "9996    0\n",
       "9997    1\n",
       "9998    1\n",
       "9999    0\n",
       "Name: Exited, Length: 10000, dtype: int64"
      ]
     },
     "execution_count": 157,
     "metadata": {},
     "output_type": "execute_result"
    }
   ],
   "source": [
    "y"
   ]
  },
  {
   "cell_type": "code",
   "execution_count": 158,
   "id": "5bb8c552",
   "metadata": {},
   "outputs": [],
   "source": [
    "from sklearn.model_selection import train_test_split\n",
    "X_train,X_test,y_train,y_test=train_test_split(X,y,test_size=0.20,random_state=42)"
   ]
  },
  {
   "cell_type": "code",
   "execution_count": 159,
   "id": "37bf9c68",
   "metadata": {},
   "outputs": [],
   "source": [
    "from sklearn.preprocessing import StandardScaler\n",
    "sc=StandardScaler()\n",
    "X_train=sc.fit_transform(X_train)\n",
    "X_test=sc.transform(X_test)"
   ]
  },
  {
   "cell_type": "code",
   "execution_count": 160,
   "id": "f304ced4",
   "metadata": {},
   "outputs": [
    {
     "data": {
      "text/plain": [
       "((8000, 11), (2000, 11))"
      ]
     },
     "execution_count": 160,
     "metadata": {},
     "output_type": "execute_result"
    }
   ],
   "source": [
    "X_train.shape,X_test.shape"
   ]
  },
  {
   "cell_type": "markdown",
   "id": "13838b83",
   "metadata": {},
   "source": [
    "## tensorflow"
   ]
  },
  {
   "cell_type": "code",
   "execution_count": 210,
   "id": "81c9d2a2",
   "metadata": {},
   "outputs": [],
   "source": [
    "from tensorflow.keras.models import Sequential\n",
    "from tensorflow.keras.layers import Dense\n",
    "from tensorflow.keras.layers import LeakyReLU,PReLU,ELU,ReLU\n",
    "from tensorflow.keras.layers import Dropout"
   ]
  },
  {
   "cell_type": "code",
   "execution_count": 211,
   "id": "4824a156",
   "metadata": {},
   "outputs": [],
   "source": [
    "# lets initialize ANN\n",
    "classifier=Sequential()"
   ]
  },
  {
   "cell_type": "code",
   "execution_count": 229,
   "id": "c42954ae",
   "metadata": {},
   "outputs": [],
   "source": [
    "## Adding Input layer\n",
    "classifier.add(Dense(units=11,activation='relu'))"
   ]
  },
  {
   "cell_type": "code",
   "execution_count": 230,
   "id": "bd545e38",
   "metadata": {},
   "outputs": [],
   "source": [
    "## Adding First hidden layer\n",
    "classifier.add(Dense(units=7,activation='relu'))\n",
    "classifier.add(Dropout(0.25))"
   ]
  },
  {
   "cell_type": "code",
   "execution_count": 231,
   "id": "f1a0c121",
   "metadata": {},
   "outputs": [],
   "source": [
    "## Adding second hidden layer\n",
    "classifier.add(Dense(units=6,activation='relu'))\n",
    "classifier.add(Dropout(0.25))"
   ]
  },
  {
   "cell_type": "code",
   "execution_count": 232,
   "id": "fb6fb51a",
   "metadata": {},
   "outputs": [],
   "source": [
    "## Adding Output layer\n",
    "classifier.add(Dense(units=1,activation='sigmoid'))"
   ]
  },
  {
   "cell_type": "code",
   "execution_count": 233,
   "id": "548473e4",
   "metadata": {},
   "outputs": [],
   "source": [
    "## Compile\n",
    "classifier.compile(optimizer='adam',loss='binary_crossentropy',metrics=[\"accuracy\"])"
   ]
  },
  {
   "cell_type": "code",
   "execution_count": 234,
   "id": "781980b2",
   "metadata": {},
   "outputs": [],
   "source": [
    "## in adam learning rate is fixed\n",
    "## ue can udate learning rate as\n",
    "opt=tensorflow.keras.optimizers.Adam(learning_rate=0.01)"
   ]
  },
  {
   "cell_type": "code",
   "execution_count": 235,
   "id": "30ec4f53",
   "metadata": {},
   "outputs": [],
   "source": [
    "## Compile\n",
    "classifier.compile(optimizer=opt,loss='binary_crossentropy',metrics=[\"accuracy\"])"
   ]
  },
  {
   "cell_type": "code",
   "execution_count": 236,
   "id": "6a087b12",
   "metadata": {},
   "outputs": [],
   "source": [
    "## early stopping\n",
    "early_stopping=tensorflow.keras.callbacks.EarlyStopping(\n",
    "    monitor='val_loss',\n",
    "    min_delta=0.0001,\n",
    "    patience=20,\n",
    "    verbose=1,\n",
    "    mode='auto',\n",
    "    baseline=None,\n",
    "    restore_best_weights=False\n",
    ")"
   ]
  },
  {
   "cell_type": "code",
   "execution_count": 238,
   "id": "e4e5f872",
   "metadata": {},
   "outputs": [
    {
     "name": "stdout",
     "output_type": "stream",
     "text": [
      "Epoch 1/100\n",
      "6/6 [==============================] - 0s 48ms/step - loss: 0.4545 - accuracy: 0.7962 - val_loss: 0.4543 - val_accuracy: 0.7910\n",
      "Epoch 2/100\n",
      "6/6 [==============================] - 0s 27ms/step - loss: 0.4611 - accuracy: 0.7962 - val_loss: 0.4536 - val_accuracy: 0.7910\n",
      "Epoch 3/100\n",
      "6/6 [==============================] - 0s 26ms/step - loss: 0.4569 - accuracy: 0.7962 - val_loss: 0.4537 - val_accuracy: 0.7910\n",
      "Epoch 4/100\n",
      "6/6 [==============================] - 0s 28ms/step - loss: 0.4587 - accuracy: 0.7962 - val_loss: 0.4532 - val_accuracy: 0.7910\n",
      "Epoch 5/100\n",
      "6/6 [==============================] - 0s 30ms/step - loss: 0.4547 - accuracy: 0.7962 - val_loss: 0.4535 - val_accuracy: 0.7910\n",
      "Epoch 6/100\n",
      "6/6 [==============================] - 0s 21ms/step - loss: 0.4555 - accuracy: 0.7962 - val_loss: 0.4529 - val_accuracy: 0.7910\n",
      "Epoch 7/100\n",
      "6/6 [==============================] - 0s 31ms/step - loss: 0.4590 - accuracy: 0.7962 - val_loss: 0.4501 - val_accuracy: 0.7910\n",
      "Epoch 8/100\n",
      "6/6 [==============================] - 0s 26ms/step - loss: 0.4565 - accuracy: 0.7962 - val_loss: 0.4504 - val_accuracy: 0.7910\n",
      "Epoch 9/100\n",
      "6/6 [==============================] - 0s 27ms/step - loss: 0.4554 - accuracy: 0.7962 - val_loss: 0.4510 - val_accuracy: 0.7910\n",
      "Epoch 10/100\n",
      "6/6 [==============================] - 0s 27ms/step - loss: 0.4579 - accuracy: 0.7962 - val_loss: 0.4493 - val_accuracy: 0.7910\n",
      "Epoch 11/100\n",
      "6/6 [==============================] - 0s 29ms/step - loss: 0.4566 - accuracy: 0.7962 - val_loss: 0.4502 - val_accuracy: 0.7910\n",
      "Epoch 12/100\n",
      "6/6 [==============================] - 0s 26ms/step - loss: 0.4574 - accuracy: 0.7962 - val_loss: 0.4509 - val_accuracy: 0.7910\n",
      "Epoch 13/100\n",
      "6/6 [==============================] - 0s 26ms/step - loss: 0.4592 - accuracy: 0.7962 - val_loss: 0.4508 - val_accuracy: 0.7910\n",
      "Epoch 14/100\n",
      "6/6 [==============================] - 0s 27ms/step - loss: 0.4575 - accuracy: 0.7962 - val_loss: 0.4501 - val_accuracy: 0.7910\n",
      "Epoch 15/100\n",
      "6/6 [==============================] - 0s 33ms/step - loss: 0.4600 - accuracy: 0.7962 - val_loss: 0.4489 - val_accuracy: 0.7910\n",
      "Epoch 16/100\n",
      "6/6 [==============================] - 0s 28ms/step - loss: 0.4617 - accuracy: 0.7962 - val_loss: 0.4488 - val_accuracy: 0.7910\n",
      "Epoch 17/100\n",
      "6/6 [==============================] - 0s 29ms/step - loss: 0.4602 - accuracy: 0.7962 - val_loss: 0.4481 - val_accuracy: 0.7910\n",
      "Epoch 18/100\n",
      "6/6 [==============================] - 0s 31ms/step - loss: 0.4558 - accuracy: 0.7962 - val_loss: 0.4464 - val_accuracy: 0.7910\n",
      "Epoch 19/100\n",
      "6/6 [==============================] - 0s 29ms/step - loss: 0.4560 - accuracy: 0.7962 - val_loss: 0.4485 - val_accuracy: 0.7910\n",
      "Epoch 20/100\n",
      "6/6 [==============================] - 0s 23ms/step - loss: 0.4540 - accuracy: 0.7962 - val_loss: 0.4474 - val_accuracy: 0.7910\n",
      "Epoch 21/100\n",
      "6/6 [==============================] - 0s 28ms/step - loss: 0.4569 - accuracy: 0.7962 - val_loss: 0.4470 - val_accuracy: 0.7910\n",
      "Epoch 22/100\n",
      "6/6 [==============================] - 0s 28ms/step - loss: 0.4553 - accuracy: 0.7962 - val_loss: 0.4463 - val_accuracy: 0.7910\n",
      "Epoch 23/100\n",
      "6/6 [==============================] - 0s 28ms/step - loss: 0.4539 - accuracy: 0.7962 - val_loss: 0.4432 - val_accuracy: 0.7910\n",
      "Epoch 24/100\n",
      "6/6 [==============================] - 0s 24ms/step - loss: 0.4494 - accuracy: 0.7962 - val_loss: 0.4410 - val_accuracy: 0.7910\n",
      "Epoch 25/100\n",
      "6/6 [==============================] - ETA: 0s - loss: 0.4511 - accuracy: 0.796"
     ]
    },
    {
     "data": {
      "text/html": [
       "<b>limit_output extension: Maximum message size of 10000 exceeded with 10142 characters</b>"
      ]
     },
     "metadata": {},
     "output_type": "display_data"
    }
   ],
   "source": [
    "model_history=classifier.fit(X_train,y_train,validation_split=0.33, batch_size=1000,epochs=100,callbacks=early_stopping)"
   ]
  },
  {
   "cell_type": "code",
   "execution_count": 239,
   "id": "6de68ffb",
   "metadata": {},
   "outputs": [
    {
     "data": {
      "text/plain": [
       "dict_keys(['loss', 'accuracy', 'val_loss', 'val_accuracy'])"
      ]
     },
     "execution_count": 239,
     "metadata": {},
     "output_type": "execute_result"
    }
   ],
   "source": [
    " model_history.history.keys()"
   ]
  },
  {
   "cell_type": "code",
   "execution_count": 240,
   "id": "452edc98",
   "metadata": {},
   "outputs": [
    {
     "data": {
      "image/png": "[encoded data removed]",
      "text/plain": [
       "<Figure size 432x288 with 1 Axes>"
      ]
     },
     "metadata": {
      "needs_background": "light"
     },
     "output_type": "display_data"
    }
   ],
   "source": [
    "# summarize history for accuracy\n",
    "plt.plot( model_history.history['accuracy'])\n",
    "plt.plot( model_history.history['val_accuracy'])\n",
    "plt.title(\"model accuracy\")\n",
    "plt.xlabel(\"epoch\")\n",
    "plt.ylabel(\"accuracy\")\n",
    "plt.legend(['train','test'])\n",
    "plt.show()"
   ]
  },
  {
   "cell_type": "code",
   "execution_count": 241,
   "id": "99b6a9fe",
   "metadata": {},
   "outputs": [
    {
     "data": {
      "image/png": "[encoded data removed]",
      "text/plain": [
       "<Figure size 432x288 with 1 Axes>"
      ]
     },
     "metadata": {
      "needs_background": "light"
     },
     "output_type": "display_data"
    }
   ],
   "source": [
    "# summarize history for accuracy\n",
    "plt.plot( model_history.history['loss'])\n",
    "plt.plot( model_history.history['val_loss'])\n",
    "plt.title(\"model loss\")\n",
    "plt.xlabel(\"epoch\")\n",
    "plt.ylabel(\"loss\")\n",
    "plt.legend(['train','test'])\n",
    "plt.show()"
   ]
  },
  {
   "cell_type": "code",
   "execution_count": 242,
   "id": "19162893",
   "metadata": {},
   "outputs": [
    {
     "name": "stdout",
     "output_type": "stream",
     "text": [
      "63/63 [==============================] - 0s 3ms/step\n"
     ]
    }
   ],
   "source": [
    "## Prediction\n",
    "y_pred=classifier.predict(X_test)\n",
    "y_pred=(y_pred>=0.5)"
   ]
  },
  {
   "cell_type": "code",
   "execution_count": 243,
   "id": "71c2345f",
   "metadata": {},
   "outputs": [
    {
     "data": {
      "text/plain": [
       "array([[1490,  117],\n",
       "       [ 170,  223]], dtype=int64)"
      ]
     },
     "execution_count": 243,
     "metadata": {},
     "output_type": "execute_result"
    }
   ],
   "source": [
    "## make the confusion matrix\n",
    "from sklearn.metrics import confusion_matrix\n",
    "cm=confusion_matrix(y_test,y_pred)\n",
    "cm"
   ]
  },
  {
   "cell_type": "code",
   "execution_count": 244,
   "id": "d7e7f6e3",
   "metadata": {},
   "outputs": [
    {
     "name": "stdout",
     "output_type": "stream",
     "text": [
      "the accuracy is : 85.65 %\n"
     ]
    }
   ],
   "source": [
    "## accuracy score\n",
    "from sklearn.metrics import accuracy_score\n",
    "score=((accuracy_score(y_test,y_pred))*100).round(2)\n",
    "print(\"the accuracy is : {} %\".format(score))"
   ]
  },
  {
   "cell_type": "code",
   "execution_count": 245,
   "id": "21f3a495",
   "metadata": {},
   "outputs": [
    {
     "data": {
      "text/plain": [
       "[array([[-0.19662656, -0.15916744,  0.7703954 , -0.01734861, -0.0467945 ,\n",
       "          0.45971018,  0.5206887 , -0.45993385,  0.1657558 , -0.10512888,\n",
       "          0.25500503],\n",
       "        [-1.5509397 , -1.302761  , -1.7368869 , -0.97063   , -0.5670841 ,\n",
       "         -1.0521374 , -1.3808166 , -0.76613337,  0.7773231 ,  0.39898768,\n",
       "          0.9011468 ],\n",
       "        [-0.6774785 ,  0.16709201,  0.4059417 , -0.18375774, -0.27778292,\n",
       "          0.4876602 , -0.079873  ,  0.18389232,  0.14833404, -0.19550547,\n",
       "          0.02132667],\n",
       "        [ 0.46510977,  0.25956482,  0.31941277, -0.4864591 ,  0.75091237,\n",
       "          0.8502106 , -0.53787076, -0.33449194,  0.22639827, -0.76995915,\n",
       "         -0.12273075],\n",
       "        [-0.02525859, -0.16981286,  0.10546886, -0.17535597,  2.5324435 ,\n",
       "         -0.3513702 ,  0.15198812,  0.80210966,  0.06343435,  0.24942705,\n",
       "         -1.645812  ],\n",
       "        [-0.5718957 , -0.45011914,  0.9391786 ,  0.758141  , -0.14703329,\n",
       "          0.07215742, -0.41553214,  0.38689417,  0.12925525, -0.35076463,\n",
       "          0.01715543],\n",
       "        [ 0.07093859,  0.45213547, -0.21766622,  0.7673482 ,  0.07375164,\n",
       "          0.451189  , -0.6995981 ,  0.07338296,  1.5813106 ,  0.7985729 ,\n",
       "         -0.48605618],\n",
       "        [ 0.21305987, -1.0700715 ,  1.0716363 ,  0.01301694,  0.2504358 ,\n",
       "         -0.2662549 ,  0.7059106 , -0.5971079 ,  0.11268533, -0.13329127,\n",
       "          0.17960976],\n",
       "        [ 0.05831597,  0.03342842, -0.21779571,  1.1034503 ,  0.24413507,\n",
       "         -0.33565128,  0.6971691 ,  0.17546526,  0.6599877 ,  0.10345538,\n",
       "          0.08308438],\n",
       "        [-0.0584244 , -0.95221275, -0.38508666, -0.36371434, -0.51589775,\n",
       "         -1.6399782 , -0.21280345,  0.2309046 , -0.6767319 ,  0.29547235,\n",
       "          0.31127438],\n",
       "        [-0.26279306, -0.6982769 , -0.35776308,  0.40168092,  0.23910809,\n",
       "          0.25335324, -0.44707662,  0.49896485, -0.08149102,  0.3863048 ,\n",
       "         -0.09307852]], dtype=float32),\n",
       " array([ 0.7025161 , -0.7951624 , -0.30454907,  0.03127443, -1.7590786 ,\n",
       "        -0.16682349,  0.0160832 , -0.3437116 , -1.3018379 , -0.67524415,\n",
       "         0.23349738], dtype=float32),\n",
       " array([[ 0.6905436 ,  0.6318193 ,  0.76599187,  0.65261513,  0.6020727 ,\n",
       "          1.0229049 ,  0.7932916 ],\n",
       "        [ 0.7859661 , -0.4451809 ,  0.72270715,  0.64099187, -0.20283404,\n",
       "          0.6508898 ,  0.75694615],\n",
       "        [ 0.677517  ,  0.5753941 ,  0.718733  ,  0.575134  ,  0.989302  ,\n",
       "          1.1670183 ,  0.64302677],\n",
       "        [ 0.47280043, -0.53580385,  0.73160714,  0.27954578,  0.6724715 ,\n",
       "          0.620194  ,  0.67915577],\n",
       "        [-1.4893501 , -0.78712016, -1.2152146 , -1.2325802 , -1.1244922 ,\n",
       "         -1.3889034 , -1.5208569 ],\n",
       "        [ 0.7781426 , -0.1823816 ,  0.6565485 ,  0.4721818 ,  0.6348051 ,\n",
       "          0.6575212 ,  0.65715533],\n",
       "        [ 0.69856733,  0.742779  ,  0.6965111 ,  0.544388  ,  0.7296876 ,\n",
       "          0.6470854 ,  0.59917974],\n",
       "        [ 0.60459274, -1.3625538 , -0.2421918 ,  0.5815057 , -0.9180057 ,\n",
       "          0.5089336 ,  0.48113066],\n",
       "        [ 1.2595788 ,  1.3085738 ,  0.88419104,  1.2437607 ,  0.36708984,\n",
       "          1.2416482 ,  0.4350686 ],\n",
       "        [ 0.14599596,  0.16804102,  0.17005084,  0.32940388,  0.46903545,\n",
       "          0.38867053,  0.31253883],\n",
       "        [-0.6276666 , -0.35395744, -0.6732912 , -0.40239543, -0.73780334,\n",
       "         -0.9417934 , -0.7814649 ]], dtype=float32),\n",
       " array([ 0.01411271, -0.44764394,  0.01906616, -0.38792378,  0.01038314,\n",
       "        -0.02184543, -0.02661029], dtype=float32),\n",
       " array([[ 1.048482  ,  0.75331193, -1.6068105 ,  1.2134533 ,  0.96343863,\n",
       "          1.013068  ],\n",
       "        [ 0.63353264,  0.6860141 , -1.2377057 ,  0.3533369 ,  0.59858966,\n",
       "          0.4534135 ],\n",
       "        [ 0.9933476 ,  0.8809751 , -1.3376898 ,  0.67037046,  1.1792312 ,\n",
       "          0.77653635],\n",
       "        [ 0.62174284,  0.9049312 , -1.3381877 ,  0.5676217 ,  0.7485727 ,\n",
       "          0.6070713 ],\n",
       "        [ 1.0776573 ,  0.5640237 , -1.1345327 ,  0.79388684,  0.28261012,\n",
       "          0.09251438],\n",
       "        [ 0.69267726,  0.67155105, -1.226377  ,  0.6211653 ,  1.0301383 ,\n",
       "          0.9268973 ],\n",
       "        [ 0.9432973 ,  1.3219529 , -1.4089102 ,  1.1202338 ,  0.9192098 ,\n",
       "          1.1328248 ]], dtype=float32),\n",
       " array([-0.08168999, -0.05949533,  0.30288774, -0.05232313, -0.01500334,\n",
       "        -0.02639159], dtype=float32),\n",
       " array([[-0.59225917],\n",
       "        [-0.49507043],\n",
       "        [ 1.250939  ],\n",
       "        [-0.9625239 ],\n",
       "        [-0.7710803 ],\n",
       "        [-0.81331146]], dtype=float32),\n",
       " array([1.2382485], dtype=float32),\n",
       " array([[2.955254]], dtype=float32),\n",
       " array([-1.8652617], dtype=float32),\n",
       " array([[ 0.01541158, -0.1705575 ,  0.061937  ,  0.11203722,  0.63231254,\n",
       "          0.22780107,  0.8201522 ,  0.75751966,  1.0877733 , -0.01716489,\n",
       "         -0.61014086]], dtype=float32),\n",
       " array([ 0.17890938,  0.        ,  0.07325387, -0.10091487, -0.12253688,\n",
       "        -0.09413275, -0.05330213, -0.12873276, -0.15265684,  0.        ,\n",
       "         0.        ], dtype=float32),\n",
       " array([[ 0.11211149, -0.5729956 ,  0.06958413, -0.31918368,  0.29064342,\n",
       "         -0.5694754 ,  0.14276047],\n",
       "        [-0.23448783,  0.4873824 , -0.03281021, -0.04903352, -0.07625222,\n",
       "          0.5356529 ,  0.24127722],\n",
       "        [ 0.20289852,  0.2528114 , -0.45933998, -0.35642022,  0.11712039,\n",
       "         -0.2841429 ,  0.275238  ],\n",
       "        [-0.01701149,  0.05216614, -0.5429492 ,  0.02312934,  0.13408029,\n",
       "          0.5293669 ,  0.12012313],\n",
       "        [-0.3553931 ,  0.7637906 ,  0.53432107, -0.3030027 , -0.56154525,\n",
       "          0.3701562 , -0.33650997],\n",
       "        [ 0.09306041, -0.016701  ,  0.07630903,  0.31749624,  0.27455437,\n",
       "          0.32723254, -0.48141623],\n",
       "        [-0.3983343 ,  0.71618766, -0.48239225,  0.25437564, -0.32215697,\n",
       "          0.32896575, -0.88955003],\n",
       "        [-0.55631876,  0.11771854,  0.17916298, -0.06601137, -0.3545078 ,\n",
       "          0.43693784, -0.14445722],\n",
       "        [-0.7188664 ,  0.7832064 , -0.07092059, -0.37942886, -0.62277967,\n",
       "          0.84758234, -0.93568236],\n",
       "        [-0.39246154, -0.19852445,  0.27023363, -0.1524832 , -0.53375936,\n",
       "          0.37070042,  0.1515835 ],\n",
       "        [ 0.38113755, -0.45121884,  0.17599893,  0.06878644, -0.4324003 ,\n",
       "          0.10561162, -0.49034697]], dtype=float32),\n",
       " array([ 0.14792985, -0.49112564,  0.        ,  0.        ,  0.1770221 ,\n",
       "        -0.33835936,  0.20106944], dtype=float32),\n",
       " array([[-1.6879886 ,  0.30353442,  0.2424973 ,  0.83719057, -0.05715353,\n",
       "         -3.4918835 ],\n",
       "        [ 0.7362292 , -0.937228  , -1.1250302 , -1.2639089 ,  0.11333388,\n",
       "         -0.11897708],\n",
       "        [-0.4537878 ,  0.21013898, -0.48199838, -0.2708032 , -0.01583111,\n",
       "         -0.47616687],\n",
       "        [ 0.08357966,  0.49036753, -0.1612035 ,  0.35532558, -0.4591511 ,\n",
       "         -0.28789565],\n",
       "        [-1.2207934 ,  0.24772112,  0.09448154,  0.38528275, -0.05454014,\n",
       "         -2.7224097 ],\n",
       "        [ 0.15057363, -0.92330277, -0.9951535 , -1.3425806 , -0.594303  ,\n",
       "          0.7086282 ],\n",
       "        [-1.304241  ,  0.27108866,  0.22632909,  0.27430952,  0.21395822,\n",
       "         -2.6834168 ]], dtype=float32),\n",
       " array([ 0.33113092,  0.3346488 ,  0.3253066 ,  0.45667732, -0.14718112,\n",
       "         0.56093127], dtype=float32),\n",
       " array([[ 1.2587986 ],\n",
       "        [-0.76923215],\n",
       "        [-0.80018574],\n",
       "        [-0.5430928 ],\n",
       "        [ 0.20974797],\n",
       "        [ 0.8402312 ]], dtype=float32),\n",
       " array([-0.99714065], dtype=float32)]"
      ]
     },
     "execution_count": 245,
     "metadata": {},
     "output_type": "execute_result"
    }
   ],
   "source": [
    "## get the weights\n",
    "classifier.get_weights()"
   ]
  },
  {
   "cell_type": "code",
   "execution_count": null,
   "id": "bd365c1d",
   "metadata": {},
   "outputs": [],
   "source": []
  }
 ],
 "metadata": {
  "kernelspec": {
   "display_name": "Python 3 (ipykernel)",
   "language": "python",
   "name": "python3"
  },
  "language_info": {
   "codemirror_mode": {
    "name": "ipython",
    "version": 3
   },
   "file_extension": ".py",
   "mimetype": "text/x-python",
   "name": "python",
   "nbconvert_exporter": "python",
   "pygments_lexer": "ipython3",
   "version": "3.9.12"
  },
  "latex_envs": {
   "LaTeX_envs_menu_present": true,
   "autoclose": false,
   "autocomplete": true,
   "bibliofile": "biblio.bib",
   "cite_by": "apalike",
   "current_citInitial": 1,
   "eqLabelWithNumbers": true,
   "eqNumInitial": 1,
   "hotkeys": {
    "equation": "Ctrl-E",
    "itemize": "Ctrl-I"
   },
   "labels_anchors": false,
   "latex_user_defs": false,
   "report_style_numbering": false,
   "user_envs_cfg": false
  },
  "varInspector": {
   "cols": {
    "lenName": 16,
    "lenType": 16,
    "lenVar": 40
   },
   "kernels_config": {
    "python": {
     "delete_cmd_postfix": "",
     "delete_cmd_prefix": "del ",
     "library": "var_list.py",
     "varRefreshCmd": "print(var_dic_list())"
    },
    "r": {
     "delete_cmd_postfix": ") ",
     "delete_cmd_prefix": "rm(",
     "library": "var_list.r",
     "varRefreshCmd": "cat(var_dic_list()) "
    }
   },
   "types_to_exclude": [
    "module",
    "function",
    "builtin_function_or_method",
    "instance",
    "_Feature"
   ],
   "window_display": false
  }
 },
 "nbformat": 4,
 "nbformat_minor": 5
}
