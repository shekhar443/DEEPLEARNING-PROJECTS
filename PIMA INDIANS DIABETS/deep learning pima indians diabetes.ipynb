{
 "cells": [
  {
   "cell_type": "code",
   "execution_count": 305,
   "id": "059bcbc5",
   "metadata": {},
   "outputs": [],
   "source": [
    "# importing required libraries\n",
    "import pandas as pd\n",
    "import numpy as np\n",
    "import matplotlib.pyplot as plt\n",
    "import seaborn as sns\n",
    "import tensorflow as tf\n",
    "import warnings\n",
    "warnings.filterwarnings(\"ignore\")"
   ]
  },
  {
   "cell_type": "code",
   "execution_count": 306,
   "id": "8f645a24",
   "metadata": {},
   "outputs": [],
   "source": [
    "# load the dataset\n",
    "df=pd.read_csv(\"E:\\\\pantech solutions\\\\ML\\\\28\\\\Code\\\\pima-indians-diabetes.csv\",delimiter=',')"
   ]
  },
  {
   "cell_type": "code",
   "execution_count": 307,
   "id": "eefc5015",
   "metadata": {},
   "outputs": [
    {
     "data": {
      "text/html": [
       "<div>\n",
       "<style scoped>\n",
       "    .dataframe tbody tr th:only-of-type {\n",
       "        vertical-align: middle;\n",
       "    }\n",
       "\n",
       "    .dataframe tbody tr th {\n",
       "        vertical-align: top;\n",
       "    }\n",
       "\n",
       "    .dataframe thead th {\n",
       "        text-align: right;\n",
       "    }\n",
       "</style>\n",
       "<table border=\"1\" class=\"dataframe\">\n",
       "  <thead>\n",
       "    <tr style=\"text-align: right;\">\n",
       "      <th></th>\n",
       "      <th>6</th>\n",
       "      <th>148</th>\n",
       "      <th>72</th>\n",
       "      <th>35</th>\n",
       "      <th>0</th>\n",
       "      <th>33.6</th>\n",
       "      <th>0.627</th>\n",
       "      <th>50</th>\n",
       "      <th>1</th>\n",
       "    </tr>\n",
       "  </thead>\n",
       "  <tbody>\n",
       "    <tr>\n",
       "      <th>0</th>\n",
       "      <td>1</td>\n",
       "      <td>85</td>\n",
       "      <td>66</td>\n",
       "      <td>29</td>\n",
       "      <td>0</td>\n",
       "      <td>26.6</td>\n",
       "      <td>0.351</td>\n",
       "      <td>31</td>\n",
       "      <td>0</td>\n",
       "    </tr>\n",
       "    <tr>\n",
       "      <th>1</th>\n",
       "      <td>8</td>\n",
       "      <td>183</td>\n",
       "      <td>64</td>\n",
       "      <td>0</td>\n",
       "      <td>0</td>\n",
       "      <td>23.3</td>\n",
       "      <td>0.672</td>\n",
       "      <td>32</td>\n",
       "      <td>1</td>\n",
       "    </tr>\n",
       "    <tr>\n",
       "      <th>2</th>\n",
       "      <td>1</td>\n",
       "      <td>89</td>\n",
       "      <td>66</td>\n",
       "      <td>23</td>\n",
       "      <td>94</td>\n",
       "      <td>28.1</td>\n",
       "      <td>0.167</td>\n",
       "      <td>21</td>\n",
       "      <td>0</td>\n",
       "    </tr>\n",
       "    <tr>\n",
       "      <th>3</th>\n",
       "      <td>0</td>\n",
       "      <td>137</td>\n",
       "      <td>40</td>\n",
       "      <td>35</td>\n",
       "      <td>168</td>\n",
       "      <td>43.1</td>\n",
       "      <td>2.288</td>\n",
       "      <td>33</td>\n",
       "      <td>1</td>\n",
       "    </tr>\n",
       "    <tr>\n",
       "      <th>4</th>\n",
       "      <td>5</td>\n",
       "      <td>116</td>\n",
       "      <td>74</td>\n",
       "      <td>0</td>\n",
       "      <td>0</td>\n",
       "      <td>25.6</td>\n",
       "      <td>0.201</td>\n",
       "      <td>30</td>\n",
       "      <td>0</td>\n",
       "    </tr>\n",
       "  </tbody>\n",
       "</table>\n",
       "</div>"
      ],
      "text/plain": [
       "   6  148  72  35    0  33.6  0.627  50  1\n",
       "0  1   85  66  29    0  26.6  0.351  31  0\n",
       "1  8  183  64   0    0  23.3  0.672  32  1\n",
       "2  1   89  66  23   94  28.1  0.167  21  0\n",
       "3  0  137  40  35  168  43.1  2.288  33  1\n",
       "4  5  116  74   0    0  25.6  0.201  30  0"
      ]
     },
     "execution_count": 307,
     "metadata": {},
     "output_type": "execute_result"
    }
   ],
   "source": [
    "df.head()"
   ]
  },
  {
   "cell_type": "code",
   "execution_count": 308,
   "id": "5a1ac5f7",
   "metadata": {},
   "outputs": [
    {
     "data": {
      "text/plain": [
       "(767, 9)"
      ]
     },
     "execution_count": 308,
     "metadata": {},
     "output_type": "execute_result"
    }
   ],
   "source": [
    "df.shape"
   ]
  },
  {
   "cell_type": "code",
   "execution_count": 309,
   "id": "c11b8d9a",
   "metadata": {},
   "outputs": [],
   "source": [
    "# split the data for train and test\n",
    "X=df.iloc[:,0:8]\n",
    "y=df.iloc[:,8]"
   ]
  },
  {
   "cell_type": "code",
   "execution_count": 310,
   "id": "60f20072",
   "metadata": {},
   "outputs": [],
   "source": [
    "# segregating data into train and test\n",
    "from sklearn.model_selection import train_test_split\n",
    "X_train,X_test,y_train,y_test=train_test_split(X,y,test_size=0.20,random_state=42)"
   ]
  },
  {
   "cell_type": "code",
   "execution_count": 311,
   "id": "35e90b43",
   "metadata": {},
   "outputs": [],
   "source": [
    "# scaling data points in between 0 and 1\n",
    "from sklearn.preprocessing import StandardScaler\n",
    "sc=StandardScaler()\n",
    "X_train=sc.fit_transform(X_train)\n",
    "X_test=sc.transform(X_test)"
   ]
  },
  {
   "cell_type": "markdown",
   "id": "10973c5f",
   "metadata": {},
   "source": [
    "## tensorflow"
   ]
  },
  {
   "cell_type": "code",
   "execution_count": 312,
   "id": "8259ef8f",
   "metadata": {},
   "outputs": [],
   "source": [
    "# import required tensorflow libraries\n",
    "from tensorflow.keras.models import Sequential\n",
    "from tensorflow.keras.layers import Dense\n",
    "from tensorflow.keras.layers import ReLU,PReLU,ELU,LeakyReLU\n",
    "from tensorflow.keras.layers import Dropout"
   ]
  },
  {
   "cell_type": "code",
   "execution_count": 313,
   "id": "b9f33e9a",
   "metadata": {},
   "outputs": [],
   "source": [
    "# lets initialize ANN\n",
    "classifier=Sequential()"
   ]
  },
  {
   "cell_type": "code",
   "execution_count": 314,
   "id": "f10daf91",
   "metadata": {},
   "outputs": [],
   "source": [
    "# Adding inputlayer\n",
    "classifier.add(Dense(units=8,activation='relu'))"
   ]
  },
  {
   "cell_type": "code",
   "execution_count": 315,
   "id": "70177575",
   "metadata": {},
   "outputs": [],
   "source": [
    "# Adding first hidden layer\n",
    "classifier.add(Dense(units=6,activation='relu'))\n",
    "classifier.add(Dropout(0.05))"
   ]
  },
  {
   "cell_type": "code",
   "execution_count": 316,
   "id": "550b268e",
   "metadata": {},
   "outputs": [],
   "source": [
    "# Adding second hidden layer\n",
    "classifier.add(Dense(units=6,activation='relu'))\n",
    "classifier.add(Dropout(0.05))"
   ]
  },
  {
   "cell_type": "code",
   "execution_count": 317,
   "id": "c39a79b3",
   "metadata": {},
   "outputs": [],
   "source": [
    "# Adding Output layer\n",
    "classifier.add(Dense(units=1,activation='sigmoid'))"
   ]
  },
  {
   "cell_type": "code",
   "execution_count": 318,
   "id": "0c5f80d2",
   "metadata": {},
   "outputs": [],
   "source": [
    "## Compile\n",
    "classifier.compile(optimizer='adam',loss='binary_crossentropy',metrics=[\"accuracy\"])"
   ]
  },
  {
   "cell_type": "code",
   "execution_count": 319,
   "id": "fd84735f",
   "metadata": {},
   "outputs": [],
   "source": [
    "## early stopping\n",
    "early_stopping=tf.keras.callbacks.EarlyStopping(\n",
    "    monitor='val_loss',\n",
    "    min_delta=0.0001,\n",
    "    patience=20,\n",
    "    verbose=1,\n",
    "    mode='auto',\n",
    "    baseline=None,\n",
    "    restore_best_weights=False\n",
    ")"
   ]
  },
  {
   "cell_type": "code",
   "execution_count": 320,
   "id": "28da083a",
   "metadata": {},
   "outputs": [
    {
     "name": "stdout",
     "output_type": "stream",
     "text": [
      "Epoch 1/30\n",
      "11/11 [==============================] - 4s 66ms/step - loss: 0.7646 - accuracy: 0.3683 - val_loss: 0.7537 - val_accuracy: 0.3424\n",
      "Epoch 2/30\n",
      "11/11 [==============================] - 0s 10ms/step - loss: 0.7395 - accuracy: 0.4103 - val_loss: 0.7292 - val_accuracy: 0.3913\n",
      "Epoch 3/30\n",
      "11/11 [==============================] - 0s 9ms/step - loss: 0.7221 - accuracy: 0.4336 - val_loss: 0.7137 - val_accuracy: 0.3804\n",
      "Epoch 4/30\n",
      "11/11 [==============================] - 0s 9ms/step - loss: 0.7093 - accuracy: 0.4312 - val_loss: 0.7030 - val_accuracy: 0.4130\n",
      "Epoch 5/30\n",
      "11/11 [==============================] - 0s 12ms/step - loss: 0.6989 - accuracy: 0.4825 - val_loss: 0.6963 - val_accuracy: 0.4783\n",
      "Epoch 6/30\n",
      "11/11 [==============================] - 0s 10ms/step - loss: 0.6941 - accuracy: 0.5175 - val_loss: 0.6903 - val_accuracy: 0.5707\n",
      "Epoch 7/30\n",
      "11/11 [==============================] - 0s 9ms/step - loss: 0.6908 - accuracy: 0.5618 - val_loss: 0.6859 - val_accuracy: 0.5924\n",
      "Epoch 8/30\n",
      "11/11 [==============================] - 0s 10ms/step - loss: 0.6864 - accuracy: 0.6177 - val_loss: 0.6824 - val_accuracy: 0.5978\n",
      "Epoch 9/30\n",
      "11/11 [==============================] - 0s 13ms/step - loss: 0.6832 - accuracy: 0.6200 - val_loss: 0.6791 - val_accuracy: 0.6196\n",
      "Epoch 10/30\n",
      "11/11 [==============================] - 0s 12ms/step - loss: 0.6759 - accuracy: 0.6853 - val_loss: 0.6759 - val_accuracy: 0.6793\n",
      "Epoch 11/30\n",
      "11/11 [==============================] - 0s 12ms/step - loss: 0.6724 - accuracy: 0.6527 - val_loss: 0.6734 - val_accuracy: 0.6793\n",
      "Epoch 12/30\n",
      "11/11 [==============================] - 0s 12ms/step - loss: 0.6697 - accuracy: 0.6853 - val_loss: 0.6706 - val_accuracy: 0.6902\n",
      "Epoch 13/30\n",
      "11/11 [==============================] - 0s 11ms/step - loss: 0.6653 - accuracy: 0.7086 - val_loss: 0.6682 - val_accuracy: 0.7011\n",
      "Epoch 14/30\n",
      "11/11 [==============================] - 0s 15ms/step - loss: 0.6654 - accuracy: 0.7133 - val_loss: 0.6654 - val_accuracy: 0.7065\n",
      "Epoch 15/30\n",
      "11/11 [==============================] - 0s 12ms/step - loss: 0.6613 - accuracy: 0.7203 - val_loss: 0.6629 - val_accuracy: 0.7065\n",
      "Epoch 16/30\n",
      "11/11 [==============================] - 0s 12ms/step - loss: 0.6633 - accuracy: 0.6923 - val_loss: 0.6602 - val_accuracy: 0.7174\n",
      "Epoch 17/30\n",
      "11/11 [==============================] - 0s 12ms/step - loss: 0.6576 - accuracy: 0.6970 - val_loss: 0.6576 - val_accuracy: 0.7337\n",
      "Epoch 18/30\n",
      "11/11 [==============================] - 0s 11ms/step - loss: 0.6538 - accuracy: 0.7156 - val_loss: 0.6557 - val_accuracy: 0.7554\n",
      "Epoch 19/30\n",
      "11/11 [==============================] - 0s 13ms/step - loss: 0.6473 - accuracy: 0.7249 - val_loss: 0.6532 - val_accuracy: 0.7446\n",
      "Epoch 20/30\n",
      "11/11 [==============================] - 0s 11ms/step - loss: 0.6462 - accuracy: 0.7319 - val_loss: 0.6506 - val_accuracy: 0.7446\n",
      "Epoch 21/30\n",
      "11/11 [==============================] - 0s 11ms/step - loss: 0.6456 - accuracy: 0.7366 - val_loss: 0.6480 - val_accuracy: 0.7446\n",
      "Epoch 22/30\n",
      "11/11 [==============================] - 0s 14ms/step - loss: 0.6431 - accuracy: 0.7319 - val_loss: 0.6449 - val_accuracy: 0.7554\n",
      "Epoch 23/30\n",
      "11/11 [==============================] - 0s 13ms/step - loss: 0.6416 - accuracy: 0.7249 - val_loss: 0.6417 - val_accuracy: 0.7500\n",
      "Epoch 24/30\n",
      "11/11 [==============================] - 0s 12ms/step - loss: 0.6362 - accuracy: 0.7459 - val_loss: 0.6393 - val_accuracy: 0.7554\n",
      "Epoch 25/30\n",
      "11/11 [==============================] - 0s 13ms/step - loss: 0.6363 - accuracy: 0.7389 - val_loss: 0.6363 - val_accuracy: 0.7554\n"
     ]
    },
    {
     "data": {
      "text/html": [
       "<b>limit_output extension: Maximum message size of 10000 exceeded with 10012 characters</b>"
      ]
     },
     "metadata": {},
     "output_type": "display_data"
    }
   ],
   "source": [
    "model_history=classifier.fit(X_train,y_train,validation_split=0.30, batch_size=40,epochs=30,callbacks=early_stopping)"
   ]
  },
  {
   "cell_type": "code",
   "execution_count": 321,
   "id": "74787037",
   "metadata": {},
   "outputs": [
    {
     "data": {
      "text/plain": [
       "dict_keys(['loss', 'accuracy', 'val_loss', 'val_accuracy'])"
      ]
     },
     "execution_count": 321,
     "metadata": {},
     "output_type": "execute_result"
    }
   ],
   "source": [
    "model_history.history.keys()"
   ]
  },
  {
   "cell_type": "code",
   "execution_count": 322,
   "id": "4a6dc98b",
   "metadata": {},
   "outputs": [
    {
     "data": {
      "image/png": "[encoded data removed]",
      "text/plain": [
       "<Figure size 432x288 with 1 Axes>"
      ]
     },
     "metadata": {
      "needs_background": "light"
     },
     "output_type": "display_data"
    }
   ],
   "source": [
    "# summarize history for accuracy\n",
    "plt.plot( model_history.history['accuracy'])\n",
    "plt.plot( model_history.history['val_accuracy'])\n",
    "plt.title(\"model accuracy\")\n",
    "plt.xlabel(\"epoch\")\n",
    "plt.ylabel(\"accuracy\")\n",
    "plt.legend(['train','test'])\n",
    "plt.show()"
   ]
  },
  {
   "cell_type": "code",
   "execution_count": 323,
   "id": "7256d05f",
   "metadata": {},
   "outputs": [
    {
     "data": {
      "image/png": "[encoded data removed]",
      "text/plain": [
       "<Figure size 432x288 with 1 Axes>"
      ]
     },
     "metadata": {
      "needs_background": "light"
     },
     "output_type": "display_data"
    }
   ],
   "source": [
    "# summarize history for accuracy\n",
    "plt.plot( model_history.history['loss'])\n",
    "plt.plot( model_history.history['val_loss'])\n",
    "plt.title(\"model loss\")\n",
    "plt.xlabel(\"epoch\")\n",
    "plt.ylabel(\"loss\")\n",
    "plt.legend(['train','test'])\n",
    "plt.show()"
   ]
  },
  {
   "cell_type": "code",
   "execution_count": 324,
   "id": "a66aaa3d",
   "metadata": {},
   "outputs": [
    {
     "name": "stdout",
     "output_type": "stream",
     "text": [
      "5/5 [==============================] - 0s 2ms/step\n"
     ]
    }
   ],
   "source": [
    "# prediction \n",
    "y_pred=classifier.predict(X_test)\n",
    "y_pred=(y_pred>=0.5)"
   ]
  },
  {
   "cell_type": "code",
   "execution_count": 325,
   "id": "f2b714f5",
   "metadata": {},
   "outputs": [
    {
     "data": {
      "text/plain": [
       "array([[88,  9],\n",
       "       [24, 33]], dtype=int64)"
      ]
     },
     "execution_count": 325,
     "metadata": {},
     "output_type": "execute_result"
    }
   ],
   "source": [
    "from sklearn.metrics import confusion_matrix\n",
    "cm=confusion_matrix(y_test,y_pred)\n",
    "cm"
   ]
  },
  {
   "cell_type": "code",
   "execution_count": 326,
   "id": "a5411fa5",
   "metadata": {},
   "outputs": [
    {
     "name": "stdout",
     "output_type": "stream",
     "text": [
      "the accuracy is : 78.57 %\n"
     ]
    }
   ],
   "source": [
    "## accuracy score\n",
    "from sklearn.metrics import accuracy_score\n",
    "score=((accuracy_score(y_test,y_pred))*100).round(2)\n",
    "print(\"the accuracy is : {} %\".format(score))"
   ]
  },
  {
   "cell_type": "code",
   "execution_count": 327,
   "id": "7e846bf8",
   "metadata": {},
   "outputs": [
    {
     "data": {
      "text/plain": [
       "[array([[ 0.45558068, -0.09574426,  0.23085546,  0.42950737, -0.07033363,\n",
       "          0.64338154,  0.46260312, -0.41741997],\n",
       "        [-0.01229913,  0.11703403, -0.37408295, -0.00935516, -0.09867535,\n",
       "          0.4726933 ,  0.61432886,  0.28355122],\n",
       "        [-0.01449628, -0.4328628 , -0.1478266 ,  0.45328507,  0.07103057,\n",
       "         -0.19613281,  0.42265525,  0.0758561 ],\n",
       "        [ 0.01229758,  0.22002608, -0.14800401,  0.5895471 ,  0.1323312 ,\n",
       "         -0.29020363,  0.45721167,  0.02720019],\n",
       "        [ 0.53606826,  0.26234904, -0.2607918 , -0.37337378, -0.2680134 ,\n",
       "         -0.17336099, -0.46588394,  0.48742008],\n",
       "        [-0.3654088 ,  0.5952989 , -0.00235725,  0.6018345 , -0.09489055,\n",
       "          0.57451016,  0.21769272,  0.40748495],\n",
       "        [-0.34097728,  0.04831513,  0.31341475, -0.14731894, -0.3999099 ,\n",
       "         -0.16970453, -0.1514709 , -0.2869042 ],\n",
       "        [-0.54519385, -0.48324823, -0.41441858, -0.5594965 ,  0.4553949 ,\n",
       "         -0.4552561 ,  0.563114  , -0.50337684]], dtype=float32),\n",
       " array([ 0.06647154, -0.07087872, -0.05085909,  0.05669105,  0.06307209,\n",
       "         0.03662512,  0.10858785, -0.05377378], dtype=float32),\n",
       " array([[-0.58858275, -0.60780996,  0.60576993, -0.60053897, -0.71302444,\n",
       "         -0.33559775],\n",
       "        [-0.05429924,  0.5027617 , -0.39210337,  0.41564158,  0.3376624 ,\n",
       "          0.13067836],\n",
       "        [ 0.33705014, -0.42859313, -0.54545194,  0.22795475, -0.2881312 ,\n",
       "         -0.33111173],\n",
       "        [-0.08772114,  0.60934395, -0.02332985, -0.29228285, -0.15700865,\n",
       "          0.46421242],\n",
       "        [ 0.43464956,  0.21493323, -0.45516238, -0.63904667, -0.11976583,\n",
       "          0.1873513 ],\n",
       "        [-0.5688784 ,  0.5925665 ,  0.21529883, -0.10406075,  0.5382759 ,\n",
       "         -0.6496589 ],\n",
       "        [ 0.2644279 ,  0.5346917 , -0.2968938 ,  0.82140523,  0.06671092,\n",
       "          0.25527245],\n",
       "        [ 0.6727289 , -0.5036953 , -0.15959166,  0.5661023 , -0.07150635,\n",
       "         -0.22606355]], dtype=float32),\n",
       " array([ 0.04447165,  0.04757173, -0.04786665, -0.06333373,  0.01341076,\n",
       "         0.03733842], dtype=float32),\n",
       " array([[-0.06300471,  0.43018556, -0.66458   , -0.14905375,  0.37030235,\n",
       "         -0.39786983],\n",
       "        [ 0.02325306,  0.05135513, -0.5551621 , -0.5439528 ,  0.4994523 ,\n",
       "          0.48662126],\n",
       "        [ 0.3100168 ,  0.01267605, -0.07373466,  0.08975973,  0.4230611 ,\n",
       "          0.4244134 ],\n",
       "        [ 0.3905506 ,  0.03241147,  0.48906165,  0.11359219,  0.05578683,\n",
       "          0.4052878 ],\n",
       "        [-0.47225633,  0.59762776, -0.04720771,  0.01453963, -0.14530963,\n",
       "          0.02578736],\n",
       "        [ 0.14662778, -0.2650384 ,  0.61224264, -0.51976854,  0.67318684,\n",
       "         -0.36908817]], dtype=float32),\n",
       " array([-0.12006842, -0.15256222, -0.07654446, -0.03124075,  0.33392754,\n",
       "        -0.11008291], dtype=float32),\n",
       " array([[ 0.15547349],\n",
       "        [ 0.29977518],\n",
       "        [ 0.81380826],\n",
       "        [ 0.76308453],\n",
       "        [-0.15565719],\n",
       "        [ 0.6788398 ]], dtype=float32),\n",
       " array([-0.25740448], dtype=float32)]"
      ]
     },
     "execution_count": 327,
     "metadata": {},
     "output_type": "execute_result"
    }
   ],
   "source": [
    "## get the weights\n",
    "classifier.get_weights()"
   ]
  },
  {
   "cell_type": "code",
   "execution_count": null,
   "id": "8564f860",
   "metadata": {},
   "outputs": [],
   "source": []
  }
 ],
 "metadata": {
  "kernelspec": {
   "display_name": "Python 3 (ipykernel)",
   "language": "python",
   "name": "python3"
  },
  "language_info": {
   "codemirror_mode": {
    "name": "ipython",
    "version": 3
   },
   "file_extension": ".py",
   "mimetype": "text/x-python",
   "name": "python",
   "nbconvert_exporter": "python",
   "pygments_lexer": "ipython3",
   "version": "3.9.12"
  },
  "latex_envs": {
   "LaTeX_envs_menu_present": true,
   "autoclose": false,
   "autocomplete": true,
   "bibliofile": "biblio.bib",
   "cite_by": "apalike",
   "current_citInitial": 1,
   "eqLabelWithNumbers": true,
   "eqNumInitial": 1,
   "hotkeys": {
    "equation": "Ctrl-E",
    "itemize": "Ctrl-I"
   },
   "labels_anchors": false,
   "latex_user_defs": false,
   "report_style_numbering": false,
   "user_envs_cfg": false
  },
  "varInspector": {
   "cols": {
    "lenName": 16,
    "lenType": 16,
    "lenVar": 40
   },
   "kernels_config": {
    "python": {
     "delete_cmd_postfix": "",
     "delete_cmd_prefix": "del ",
     "library": "var_list.py",
     "varRefreshCmd": "print(var_dic_list())"
    },
    "r": {
     "delete_cmd_postfix": ") ",
     "delete_cmd_prefix": "rm(",
     "library": "var_list.r",
     "varRefreshCmd": "cat(var_dic_list()) "
    }
   },
   "types_to_exclude": [
    "module",
    "function",
    "builtin_function_or_method",
    "instance",
    "_Feature"
   ],
   "window_display": false
  }
 },
 "nbformat": 4,
 "nbformat_minor": 5
}
