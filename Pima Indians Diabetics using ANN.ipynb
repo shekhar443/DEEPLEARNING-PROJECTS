{
 "cells": [
  {
   "cell_type": "markdown",
   "id": "4035887f",
   "metadata": {},
   "source": [
    "# <font color = \"BLUE\" > <b><i>Pima Indians Diabetics Using ANN</b>\n",
    "<b><i>NAKKA SHEKHAR</b>\n",
    "* [linkedin](https://www.linkedin.com/in/nakka-shekhar-2019a987/)\n",
    "* [github](https://github.com/shekhar443/MACHINE-LEARNING-PROJECT)\n",
    "    \n",
    "<b>Steps Followed:</b>\n",
    "* Importing Required Libraries\n",
    "* Data Profiling / Data Loading\n",
    "* Summarize Dataset\n",
    "* Segregate Data into X and y(Independent and Independent Features)\n",
    "* Splitting data into Train and Test\n",
    "* Feature Scaling\n",
    "* Model Building and Training\n",
    "* Model evaluation"
   ]
  },
  {
   "cell_type": "markdown",
   "id": "1fd9bb15",
   "metadata": {},
   "source": [
    "### Importing Required Libraries"
   ]
  },
  {
   "cell_type": "code",
   "execution_count": 1,
   "id": "a6bf21a1",
   "metadata": {},
   "outputs": [],
   "source": [
    "from numpy import loadtxt\n",
    "import tensorflow\n",
    "import pandas as pd\n",
    "import matplotlib.pyplot as plt\n",
    "import warnings\n",
    "warnings.filterwarnings(\"ignore\")"
   ]
  },
  {
   "cell_type": "code",
   "execution_count": 2,
   "id": "b0d1aa86",
   "metadata": {},
   "outputs": [],
   "source": [
    "from tensorflow.keras.models import Sequential\n",
    "from tensorflow.keras.layers import Dense\n",
    "from tensorflow.keras.layers import ReLU,ELU,PReLU,LeakyReLU\n",
    "from tensorflow.keras.layers import Dropout"
   ]
  },
  {
   "cell_type": "markdown",
   "id": "4401745a",
   "metadata": {},
   "source": [
    "### Data Profiling / Data Loading"
   ]
  },
  {
   "cell_type": "code",
   "execution_count": 3,
   "id": "5adf977d",
   "metadata": {},
   "outputs": [],
   "source": [
    "dataset=pd.read_csv(\"ML/pima-indians-diabetes28.csv\", delimiter=',')"
   ]
  },
  {
   "cell_type": "markdown",
   "id": "3f24a83e",
   "metadata": {},
   "source": [
    "### Summarize Dataset"
   ]
  },
  {
   "cell_type": "code",
   "execution_count": 4,
   "id": "40e235d8",
   "metadata": {
    "scrolled": true
   },
   "outputs": [
    {
     "data": {
      "text/html": [
       "<div>\n",
       "<style scoped>\n",
       "    .dataframe tbody tr th:only-of-type {\n",
       "        vertical-align: middle;\n",
       "    }\n",
       "\n",
       "    .dataframe tbody tr th {\n",
       "        vertical-align: top;\n",
       "    }\n",
       "\n",
       "    .dataframe thead th {\n",
       "        text-align: right;\n",
       "    }\n",
       "</style>\n",
       "<table border=\"1\" class=\"dataframe\">\n",
       "  <thead>\n",
       "    <tr style=\"text-align: right;\">\n",
       "      <th></th>\n",
       "      <th>6</th>\n",
       "      <th>148</th>\n",
       "      <th>72</th>\n",
       "      <th>35</th>\n",
       "      <th>0</th>\n",
       "      <th>33.6</th>\n",
       "      <th>0.627</th>\n",
       "      <th>50</th>\n",
       "      <th>1</th>\n",
       "    </tr>\n",
       "  </thead>\n",
       "  <tbody>\n",
       "    <tr>\n",
       "      <th>0</th>\n",
       "      <td>1</td>\n",
       "      <td>85</td>\n",
       "      <td>66</td>\n",
       "      <td>29</td>\n",
       "      <td>0</td>\n",
       "      <td>26.6</td>\n",
       "      <td>0.351</td>\n",
       "      <td>31</td>\n",
       "      <td>0</td>\n",
       "    </tr>\n",
       "    <tr>\n",
       "      <th>1</th>\n",
       "      <td>8</td>\n",
       "      <td>183</td>\n",
       "      <td>64</td>\n",
       "      <td>0</td>\n",
       "      <td>0</td>\n",
       "      <td>23.3</td>\n",
       "      <td>0.672</td>\n",
       "      <td>32</td>\n",
       "      <td>1</td>\n",
       "    </tr>\n",
       "    <tr>\n",
       "      <th>2</th>\n",
       "      <td>1</td>\n",
       "      <td>89</td>\n",
       "      <td>66</td>\n",
       "      <td>23</td>\n",
       "      <td>94</td>\n",
       "      <td>28.1</td>\n",
       "      <td>0.167</td>\n",
       "      <td>21</td>\n",
       "      <td>0</td>\n",
       "    </tr>\n",
       "    <tr>\n",
       "      <th>3</th>\n",
       "      <td>0</td>\n",
       "      <td>137</td>\n",
       "      <td>40</td>\n",
       "      <td>35</td>\n",
       "      <td>168</td>\n",
       "      <td>43.1</td>\n",
       "      <td>2.288</td>\n",
       "      <td>33</td>\n",
       "      <td>1</td>\n",
       "    </tr>\n",
       "    <tr>\n",
       "      <th>4</th>\n",
       "      <td>5</td>\n",
       "      <td>116</td>\n",
       "      <td>74</td>\n",
       "      <td>0</td>\n",
       "      <td>0</td>\n",
       "      <td>25.6</td>\n",
       "      <td>0.201</td>\n",
       "      <td>30</td>\n",
       "      <td>0</td>\n",
       "    </tr>\n",
       "  </tbody>\n",
       "</table>\n",
       "</div>"
      ],
      "text/plain": [
       "   6  148  72  35    0  33.6  0.627  50  1\n",
       "0  1   85  66  29    0  26.6  0.351  31  0\n",
       "1  8  183  64   0    0  23.3  0.672  32  1\n",
       "2  1   89  66  23   94  28.1  0.167  21  0\n",
       "3  0  137  40  35  168  43.1  2.288  33  1\n",
       "4  5  116  74   0    0  25.6  0.201  30  0"
      ]
     },
     "execution_count": 4,
     "metadata": {},
     "output_type": "execute_result"
    }
   ],
   "source": [
    "dataset.head()"
   ]
  },
  {
   "cell_type": "markdown",
   "id": "9234a46a",
   "metadata": {},
   "source": [
    "### Segregate Data into X and y(Independent and Independent Features)"
   ]
  },
  {
   "cell_type": "code",
   "execution_count": 5,
   "id": "e061eabf",
   "metadata": {},
   "outputs": [],
   "source": [
    "X=dataset.iloc[:,:8]\n",
    "y=dataset.iloc[:,8]"
   ]
  },
  {
   "cell_type": "code",
   "execution_count": 6,
   "id": "0c4a5cc7",
   "metadata": {},
   "outputs": [
    {
     "data": {
      "text/html": [
       "<div>\n",
       "<style scoped>\n",
       "    .dataframe tbody tr th:only-of-type {\n",
       "        vertical-align: middle;\n",
       "    }\n",
       "\n",
       "    .dataframe tbody tr th {\n",
       "        vertical-align: top;\n",
       "    }\n",
       "\n",
       "    .dataframe thead th {\n",
       "        text-align: right;\n",
       "    }\n",
       "</style>\n",
       "<table border=\"1\" class=\"dataframe\">\n",
       "  <thead>\n",
       "    <tr style=\"text-align: right;\">\n",
       "      <th></th>\n",
       "      <th>6</th>\n",
       "      <th>148</th>\n",
       "      <th>72</th>\n",
       "      <th>35</th>\n",
       "      <th>0</th>\n",
       "      <th>33.6</th>\n",
       "      <th>0.627</th>\n",
       "      <th>50</th>\n",
       "    </tr>\n",
       "  </thead>\n",
       "  <tbody>\n",
       "    <tr>\n",
       "      <th>0</th>\n",
       "      <td>1</td>\n",
       "      <td>85</td>\n",
       "      <td>66</td>\n",
       "      <td>29</td>\n",
       "      <td>0</td>\n",
       "      <td>26.6</td>\n",
       "      <td>0.351</td>\n",
       "      <td>31</td>\n",
       "    </tr>\n",
       "    <tr>\n",
       "      <th>1</th>\n",
       "      <td>8</td>\n",
       "      <td>183</td>\n",
       "      <td>64</td>\n",
       "      <td>0</td>\n",
       "      <td>0</td>\n",
       "      <td>23.3</td>\n",
       "      <td>0.672</td>\n",
       "      <td>32</td>\n",
       "    </tr>\n",
       "    <tr>\n",
       "      <th>2</th>\n",
       "      <td>1</td>\n",
       "      <td>89</td>\n",
       "      <td>66</td>\n",
       "      <td>23</td>\n",
       "      <td>94</td>\n",
       "      <td>28.1</td>\n",
       "      <td>0.167</td>\n",
       "      <td>21</td>\n",
       "    </tr>\n",
       "    <tr>\n",
       "      <th>3</th>\n",
       "      <td>0</td>\n",
       "      <td>137</td>\n",
       "      <td>40</td>\n",
       "      <td>35</td>\n",
       "      <td>168</td>\n",
       "      <td>43.1</td>\n",
       "      <td>2.288</td>\n",
       "      <td>33</td>\n",
       "    </tr>\n",
       "    <tr>\n",
       "      <th>4</th>\n",
       "      <td>5</td>\n",
       "      <td>116</td>\n",
       "      <td>74</td>\n",
       "      <td>0</td>\n",
       "      <td>0</td>\n",
       "      <td>25.6</td>\n",
       "      <td>0.201</td>\n",
       "      <td>30</td>\n",
       "    </tr>\n",
       "    <tr>\n",
       "      <th>...</th>\n",
       "      <td>...</td>\n",
       "      <td>...</td>\n",
       "      <td>...</td>\n",
       "      <td>...</td>\n",
       "      <td>...</td>\n",
       "      <td>...</td>\n",
       "      <td>...</td>\n",
       "      <td>...</td>\n",
       "    </tr>\n",
       "    <tr>\n",
       "      <th>762</th>\n",
       "      <td>10</td>\n",
       "      <td>101</td>\n",
       "      <td>76</td>\n",
       "      <td>48</td>\n",
       "      <td>180</td>\n",
       "      <td>32.9</td>\n",
       "      <td>0.171</td>\n",
       "      <td>63</td>\n",
       "    </tr>\n",
       "    <tr>\n",
       "      <th>763</th>\n",
       "      <td>2</td>\n",
       "      <td>122</td>\n",
       "      <td>70</td>\n",
       "      <td>27</td>\n",
       "      <td>0</td>\n",
       "      <td>36.8</td>\n",
       "      <td>0.340</td>\n",
       "      <td>27</td>\n",
       "    </tr>\n",
       "    <tr>\n",
       "      <th>764</th>\n",
       "      <td>5</td>\n",
       "      <td>121</td>\n",
       "      <td>72</td>\n",
       "      <td>23</td>\n",
       "      <td>112</td>\n",
       "      <td>26.2</td>\n",
       "      <td>0.245</td>\n",
       "      <td>30</td>\n",
       "    </tr>\n",
       "    <tr>\n",
       "      <th>765</th>\n",
       "      <td>1</td>\n",
       "      <td>126</td>\n",
       "      <td>60</td>\n",
       "      <td>0</td>\n",
       "      <td>0</td>\n",
       "      <td>30.1</td>\n",
       "      <td>0.349</td>\n",
       "      <td>47</td>\n",
       "    </tr>\n",
       "    <tr>\n",
       "      <th>766</th>\n",
       "      <td>1</td>\n",
       "      <td>93</td>\n",
       "      <td>70</td>\n",
       "      <td>31</td>\n",
       "      <td>0</td>\n",
       "      <td>30.4</td>\n",
       "      <td>0.315</td>\n",
       "      <td>23</td>\n",
       "    </tr>\n",
       "  </tbody>\n",
       "</table>\n",
       "<p>767 rows × 8 columns</p>\n",
       "</div>"
      ],
      "text/plain": [
       "      6  148  72  35    0  33.6  0.627  50\n",
       "0     1   85  66  29    0  26.6  0.351  31\n",
       "1     8  183  64   0    0  23.3  0.672  32\n",
       "2     1   89  66  23   94  28.1  0.167  21\n",
       "3     0  137  40  35  168  43.1  2.288  33\n",
       "4     5  116  74   0    0  25.6  0.201  30\n",
       "..   ..  ...  ..  ..  ...   ...    ...  ..\n",
       "762  10  101  76  48  180  32.9  0.171  63\n",
       "763   2  122  70  27    0  36.8  0.340  27\n",
       "764   5  121  72  23  112  26.2  0.245  30\n",
       "765   1  126  60   0    0  30.1  0.349  47\n",
       "766   1   93  70  31    0  30.4  0.315  23\n",
       "\n",
       "[767 rows x 8 columns]"
      ]
     },
     "execution_count": 6,
     "metadata": {},
     "output_type": "execute_result"
    }
   ],
   "source": [
    "X"
   ]
  },
  {
   "cell_type": "code",
   "execution_count": 7,
   "id": "9c81b009",
   "metadata": {},
   "outputs": [
    {
     "data": {
      "text/plain": [
       "0      0\n",
       "1      1\n",
       "2      0\n",
       "3      1\n",
       "4      0\n",
       "      ..\n",
       "762    0\n",
       "763    0\n",
       "764    0\n",
       "765    1\n",
       "766    0\n",
       "Name: 1, Length: 767, dtype: int64"
      ]
     },
     "execution_count": 7,
     "metadata": {},
     "output_type": "execute_result"
    }
   ],
   "source": [
    "y"
   ]
  },
  {
   "cell_type": "markdown",
   "id": "b70db986",
   "metadata": {},
   "source": [
    "### Splitting data into Train and Test"
   ]
  },
  {
   "cell_type": "code",
   "execution_count": 8,
   "id": "f74c7fe1",
   "metadata": {},
   "outputs": [],
   "source": [
    "from sklearn.model_selection import train_test_split\n",
    "X_train,X_test,y_train,y_test=train_test_split(X,y,test_size=0.25,random_state=42)"
   ]
  },
  {
   "cell_type": "markdown",
   "id": "e42e1602",
   "metadata": {},
   "source": [
    "### Feature Scaling"
   ]
  },
  {
   "cell_type": "code",
   "execution_count": 9,
   "id": "c4d01c3a",
   "metadata": {},
   "outputs": [],
   "source": [
    "from sklearn.preprocessing import StandardScaler\n",
    "sc=StandardScaler()\n",
    "X_train=sc.fit_transform(X_train)\n",
    "X_test=sc.transform(X_test)"
   ]
  },
  {
   "cell_type": "code",
   "execution_count": 10,
   "id": "fa0ae5a0",
   "metadata": {},
   "outputs": [
    {
     "data": {
      "text/plain": [
       "array([[ 2.38812034e+00, -1.01923779e+00,  2.23096671e-01, ...,\n",
       "         4.05338503e-01, -2.70450954e-01,  1.21161571e+00],\n",
       "       [-8.40103885e-01, -1.30733892e+00,  2.78749854e-01, ...,\n",
       "         1.55342874e-03, -2.16193009e-01, -9.67339522e-01],\n",
       "       [-8.40103885e-01, -9.55215312e-01, -4.44741520e-01, ...,\n",
       "        -5.85770315e-01,  3.38443760e-01, -7.99727582e-01],\n",
       "       ...,\n",
       "       [-5.46628955e-01, -3.79013046e-01, -4.44741520e-01, ...,\n",
       "        -8.30488542e-01, -1.02403352e+00, -1.05114549e+00],\n",
       "       [ 2.38812034e+00,  6.45346538e-01,  8.35281680e-01, ...,\n",
       "         6.62292640e-01, -6.74371209e-01,  6.24973915e-01],\n",
       "       [-8.40103885e-01, -1.24331645e+00,  1.11790306e-01, ...,\n",
       "        -6.59185783e-01, -5.56812328e-01, -7.99727582e-01]])"
      ]
     },
     "execution_count": 10,
     "metadata": {},
     "output_type": "execute_result"
    }
   ],
   "source": [
    "X_train"
   ]
  },
  {
   "cell_type": "code",
   "execution_count": 11,
   "id": "266332a4",
   "metadata": {},
   "outputs": [
    {
     "data": {
      "text/plain": [
       "array([[ 0.62727076, -0.69912542, -0.66735425, ...,  0.24627166,\n",
       "        -0.11370578,  0.79258586],\n",
       "       [-0.84010388,  1.18953757,  0.11179031, ..., -0.7815449 ,\n",
       "        -1.03910517, -0.79972758],\n",
       "       [-0.54662896, -0.37901305, -0.33343516, ..., -0.14527751,\n",
       "        -0.93360361, -1.05114549],\n",
       "       ...,\n",
       "       [-0.54662896, -1.17929397, -0.22212879, ...,  0.02602525,\n",
       "         0.08825435, -0.96733952],\n",
       "       [ 1.80117048, -0.15493439, -3.89523884, ...,  0.4053385 ,\n",
       "        -1.00594754, -0.38069773],\n",
       "       [ 0.62727076,  0.10115551,  0.11179031, ...,  0.19732801,\n",
       "         0.79963629,  0.03833212]])"
      ]
     },
     "execution_count": 11,
     "metadata": {},
     "output_type": "execute_result"
    }
   ],
   "source": [
    "X_test"
   ]
  },
  {
   "cell_type": "markdown",
   "id": "b00282ef",
   "metadata": {},
   "source": [
    "### Model Building and Training"
   ]
  },
  {
   "cell_type": "code",
   "execution_count": 12,
   "id": "59f2cd1d",
   "metadata": {},
   "outputs": [
    {
     "name": "stdout",
     "output_type": "stream",
     "text": [
      "Model: \"sequential\"\n",
      "_________________________________________________________________\n",
      " Layer (type)                Output Shape              Param #   \n",
      "=================================================================\n",
      " dense (Dense)               (None, 12)                108       \n",
      "                                                                 \n",
      " dense_1 (Dense)             (None, 8)                 104       \n",
      "                                                                 \n",
      " dense_2 (Dense)             (None, 1)                 9         \n",
      "                                                                 \n",
      "=================================================================\n",
      "Total params: 221\n",
      "Trainable params: 221\n",
      "Non-trainable params: 0\n",
      "_________________________________________________________________\n"
     ]
    }
   ],
   "source": [
    "model = Sequential([\n",
    "  Dense(12, activation='relu',input_shape=(8,)),\n",
    "  Dense(8, activation='relu'),\n",
    "  Dense(1, activation='sigmoid')])\n",
    "model.summary()"
   ]
  },
  {
   "cell_type": "code",
   "execution_count": 13,
   "id": "a58a00b3",
   "metadata": {},
   "outputs": [
    {
     "name": "stdout",
     "output_type": "stream",
     "text": [
      "Epoch 1/100\n",
      "77/77 [==============================] - 2s 3ms/step - loss: 7.9520 - accuracy: 0.4316\n",
      "Epoch 2/100\n",
      "77/77 [==============================] - 0s 3ms/step - loss: 2.1579 - accuracy: 0.5059\n",
      "Epoch 3/100\n",
      "77/77 [==============================] - 0s 3ms/step - loss: 1.4434 - accuracy: 0.5241\n",
      "Epoch 4/100\n",
      "77/77 [==============================] - 1s 8ms/step - loss: 1.1128 - accuracy: 0.5411\n",
      "Epoch 5/100\n",
      "77/77 [==============================] - 0s 3ms/step - loss: 0.9201 - accuracy: 0.5346\n",
      "Epoch 6/100\n",
      "77/77 [==============================] - 0s 3ms/step - loss: 0.8046 - accuracy: 0.5580\n",
      "Epoch 7/100\n",
      "77/77 [==============================] - 0s 3ms/step - loss: 0.7458 - accuracy: 0.5828\n",
      "Epoch 8/100\n",
      "77/77 [==============================] - 0s 3ms/step - loss: 0.7013 - accuracy: 0.5997\n",
      "Epoch 9/100\n",
      "77/77 [==============================] - 0s 3ms/step - loss: 0.6834 - accuracy: 0.6558\n",
      "Epoch 10/100\n",
      "77/77 [==============================] - 0s 3ms/step - loss: 0.6757 - accuracy: 0.6284\n",
      "Epoch 11/100\n",
      "77/77 [==============================] - 0s 3ms/step - loss: 0.6555 - accuracy: 0.6480\n",
      "Epoch 12/100\n",
      "77/77 [==============================] - 0s 5ms/step - loss: 0.6543 - accuracy: 0.6532\n",
      "Epoch 13/100\n",
      "77/77 [==============================] - 0s 3ms/step - loss: 0.6494 - accuracy: 0.6310\n",
      "Epoch 14/100\n",
      "77/77 [==============================] - 0s 2ms/step - loss: 0.6346 - accuracy: 0.6649\n",
      "Epoch 15/100\n",
      "77/77 [==============================] - 0s 3ms/step - loss: 0.6246 - accuracy: 0.6649\n",
      "Epoch 16/100\n",
      "77/77 [==============================] - 0s 3ms/step - loss: 0.6191 - accuracy: 0.6845\n",
      "Epoch 17/100\n",
      "77/77 [==============================] - 0s 6ms/step - loss: 0.6137 - accuracy: 0.6806\n",
      "Epoch 18/100\n",
      "77/77 [==============================] - 0s 3ms/step - loss: 0.6179 - accuracy: 0.6780\n",
      "Epoch 19/100\n",
      "77/77 [==============================] - 0s 3ms/step - loss: 0.6047 - accuracy: 0.6741\n",
      "Epoch 20/100\n",
      "77/77 [==============================] - 1s 7ms/step - loss: 0.6026 - accuracy: 0.6845\n",
      "Epoch 21/100\n",
      "77/77 [==============================] - 0s 4ms/step - loss: 0.6060 - accuracy: 0.7027\n",
      "Epoch 22/100\n",
      "77/77 [==============================] - 0s 4ms/step - loss: 0.6059 - accuracy: 0.6806\n",
      "Epoch 23/100\n",
      "77/77 [==============================] - 0s 3ms/step - loss: 0.6029 - accuracy: 0.6910\n",
      "Epoch 24/100\n",
      "77/77 [==============================] - 0s 3ms/step - loss: 0.6013 - accuracy: 0.6910\n",
      "Epoch 25/100\n",
      "77/77 [==============================] - 0s 3ms/step - loss: 0.5939 - accuracy: 0.7080\n",
      "Epoch 26/100\n",
      "77/77 [==============================] - 0s 3ms/step - loss: 0.5955 - accuracy: 0.6884\n",
      "Epoch 27/100\n",
      "77/77 [==============================] - 0s 3ms/step - loss: 0.5968 - accuracy: 0.7040\n",
      "Epoch 28/100\n",
      "77/77 [==============================] - 1s 8ms/step - loss: 0.5786 - accuracy: 0.7027\n",
      "Epoch 29/100\n",
      "77/77 [==============================] - 0s 3ms/step - loss: 0.5860 - accuracy: 0.6832\n",
      "Epoch 30/100\n",
      "77/77 [==============================] - 0s 3ms/step - loss: 0.5857 - accuracy: 0.6975\n",
      "Epoch 31/100\n",
      "77/77 [==============================] - 0s 3ms/step - loss: 0.5874 - accuracy: 0.7106\n",
      "Epoch 32/100\n",
      "77/77 [==============================] - 0s 3ms/step - loss: 0.5760 - accuracy: 0.7145\n",
      "Epoch 33/100\n",
      "77/77 [==============================] - 0s 3ms/step - loss: 0.5811 - accuracy: 0.6910\n",
      "Epoch 34/100\n",
      "77/77 [==============================] - 0s 3ms/step - loss: 0.5761 - accuracy: 0.6949\n",
      "Epoch 35/100\n",
      "77/77 [==============================] - 0s 3ms/step - loss: 0.5770 - accuracy: 0.7184\n",
      "Epoch 36/100\n",
      "77/77 [==============================] - 0s 3ms/step - loss: 0.5701 - accuracy: 0.7145\n",
      "Epoch 37/100\n",
      "77/77 [==============================] - 0s 6ms/step - loss: 0.5715 - accuracy: 0.7053\n",
      "Epoch 38/100\n",
      "77/77 [==============================] - 0s 3ms/step - loss: 0.5639 - accuracy: 0.7236\n",
      "Epoch 39/100\n",
      "77/77 [==============================] - 0s 4ms/step - loss: 0.5718 - accuracy: 0.7223\n",
      "Epoch 40/100\n",
      "77/77 [==============================] - 0s 5ms/step - loss: 0.5720 - accuracy: 0.7132\n",
      "Epoch 41/100\n",
      "77/77 [==============================] - 0s 3ms/step - loss: 0.5694 - accuracy: 0.7080\n",
      "Epoch 42/100\n",
      "77/77 [==============================] - 0s 3ms/step - loss: 0.5743 - accuracy: 0.7040\n",
      "Epoch 43/100\n",
      "77/77 [==============================] - 0s 3ms/step - loss: 0.5692 - accuracy: 0.7080\n",
      "Epoch 44/100\n",
      "77/77 [==============================] - 0s 3ms/step - loss: 0.5594 - accuracy: 0.7014\n",
      "Epoch 45/100\n",
      "77/77 [==============================] - 0s 6ms/step - loss: 0.5597 - accuracy: 0.7223\n",
      "Epoch 46/100\n",
      "77/77 [==============================] - 0s 3ms/step - loss: 0.5641 - accuracy: 0.7223\n",
      "Epoch 47/100\n",
      "77/77 [==============================] - 0s 3ms/step - loss: 0.5473 - accuracy: 0.7132\n",
      "Epoch 48/100\n",
      "77/77 [==============================] - 0s 3ms/step - loss: 0.5588 - accuracy: 0.7314\n",
      "Epoch 49/100\n",
      "77/77 [==============================] - 0s 3ms/step - loss: 0.5566 - accuracy: 0.7132\n",
      "Epoch 50/100\n",
      "77/77 [==============================] - 0s 3ms/step - loss: 0.5622 - accuracy: 0.7184\n",
      "Epoch 51/100\n",
      "77/77 [==============================] - 0s 3ms/step - loss: 0.5582 - accuracy: 0.7158\n",
      "Epoch 52/100\n",
      "77/77 [==============================] - 0s 4ms/step - loss: 0.5577 - accuracy: 0.7262\n",
      "Epoch 53/100\n",
      "77/77 [==============================] - 0s 6ms/step - loss: 0.5646 - accuracy: 0.7223\n",
      "Epoch 54/100\n",
      "77/77 [==============================] - 0s 3ms/step - loss: 0.5554 - accuracy: 0.7197\n",
      "Epoch 55/100\n",
      "77/77 [==============================] - 0s 3ms/step - loss: 0.5587 - accuracy: 0.6988\n",
      "Epoch 56/100\n",
      "77/77 [==============================] - 0s 3ms/step - loss: 0.5500 - accuracy: 0.7223\n",
      "Epoch 57/100\n",
      "77/77 [==============================] - 0s 3ms/step - loss: 0.5467 - accuracy: 0.7249\n",
      "Epoch 58/100\n",
      "77/77 [==============================] - 0s 3ms/step - loss: 0.5472 - accuracy: 0.7379\n",
      "Epoch 59/100\n",
      "77/77 [==============================] - 0s 3ms/step - loss: 0.5449 - accuracy: 0.7314\n",
      "Epoch 60/100\n",
      "77/77 [==============================] - 0s 3ms/step - loss: 0.5470 - accuracy: 0.7236\n",
      "Epoch 61/100\n",
      "77/77 [==============================] - 0s 3ms/step - loss: 0.5585 - accuracy: 0.7066\n",
      "Epoch 62/100\n",
      "77/77 [==============================] - 0s 5ms/step - loss: 0.5549 - accuracy: 0.7236\n",
      "Epoch 63/100\n",
      "77/77 [==============================] - 1s 6ms/step - loss: 0.5416 - accuracy: 0.7419\n",
      "Epoch 64/100\n",
      "77/77 [==============================] - 0s 3ms/step - loss: 0.5521 - accuracy: 0.7223\n",
      "Epoch 65/100\n",
      "77/77 [==============================] - 0s 3ms/step - loss: 0.5459 - accuracy: 0.7340\n",
      "Epoch 66/100\n",
      "77/77 [==============================] - 0s 3ms/step - loss: 0.5478 - accuracy: 0.7249\n",
      "Epoch 67/100\n",
      "77/77 [==============================] - 0s 3ms/step - loss: 0.5422 - accuracy: 0.7288\n",
      "Epoch 68/100\n",
      "77/77 [==============================] - 0s 3ms/step - loss: 0.5456 - accuracy: 0.7405\n",
      "Epoch 69/100\n",
      "77/77 [==============================] - 0s 3ms/step - loss: 0.5397 - accuracy: 0.7262\n",
      "Epoch 70/100\n",
      "77/77 [==============================] - 0s 3ms/step - loss: 0.5475 - accuracy: 0.7249\n",
      "Epoch 71/100\n",
      "77/77 [==============================] - 0s 5ms/step - loss: 0.5429 - accuracy: 0.7288\n",
      "Epoch 72/100\n",
      "77/77 [==============================] - 0s 3ms/step - loss: 0.5482 - accuracy: 0.7223\n",
      "Epoch 73/100\n",
      "77/77 [==============================] - 0s 3ms/step - loss: 0.5391 - accuracy: 0.7353\n",
      "Epoch 74/100\n",
      "77/77 [==============================] - 0s 3ms/step - loss: 0.5476 - accuracy: 0.7366\n",
      "Epoch 75/100\n",
      "77/77 [==============================] - 0s 6ms/step - loss: 0.5380 - accuracy: 0.7353\n",
      "Epoch 76/100\n",
      "77/77 [==============================] - 0s 3ms/step - loss: 0.5367 - accuracy: 0.7314\n",
      "Epoch 77/100\n",
      "77/77 [==============================] - 0s 3ms/step - loss: 0.5312 - accuracy: 0.7379\n",
      "Epoch 78/100\n",
      "77/77 [==============================] - 0s 3ms/step - loss: 0.5350 - accuracy: 0.7301\n",
      "Epoch 79/100\n",
      "77/77 [==============================] - 0s 6ms/step - loss: 0.5455 - accuracy: 0.7223\n",
      "Epoch 80/100\n",
      "77/77 [==============================] - 0s 3ms/step - loss: 0.5339 - accuracy: 0.7445\n",
      "Epoch 81/100\n",
      "77/77 [==============================] - 0s 3ms/step - loss: 0.5484 - accuracy: 0.7288\n",
      "Epoch 82/100\n",
      "77/77 [==============================] - 0s 3ms/step - loss: 0.5289 - accuracy: 0.7327\n",
      "Epoch 83/100\n",
      "77/77 [==============================] - 0s 3ms/step - loss: 0.5259 - accuracy: 0.7419\n",
      "Epoch 84/100\n",
      "77/77 [==============================] - 0s 3ms/step - loss: 0.5299 - accuracy: 0.7327\n",
      "Epoch 85/100\n",
      "77/77 [==============================] - 0s 3ms/step - loss: 0.5225 - accuracy: 0.7301\n",
      "Epoch 86/100\n",
      "77/77 [==============================] - 0s 3ms/step - loss: 0.5282 - accuracy: 0.7301\n",
      "Epoch 87/100\n",
      "77/77 [==============================] - 0s 3ms/step - loss: 0.5245 - accuracy: 0.7523\n",
      "Epoch 88/100\n",
      "77/77 [==============================] - 1s 8ms/step - loss: 0.5250 - accuracy: 0.7379\n",
      "Epoch 89/100\n",
      "77/77 [==============================] - 0s 3ms/step - loss: 0.5292 - accuracy: 0.7288\n",
      "Epoch 90/100\n",
      "77/77 [==============================] - 0s 3ms/step - loss: 0.5251 - accuracy: 0.7392\n",
      "Epoch 91/100\n",
      "77/77 [==============================] - 0s 3ms/step - loss: 0.5437 - accuracy: 0.7405\n",
      "Epoch 92/100\n",
      "77/77 [==============================] - 0s 3ms/step - loss: 0.5303 - accuracy: 0.7301\n",
      "Epoch 93/100\n",
      "77/77 [==============================] - 0s 3ms/step - loss: 0.5248 - accuracy: 0.7301\n",
      "Epoch 94/100\n",
      "77/77 [==============================] - 0s 3ms/step - loss: 0.5222 - accuracy: 0.7353\n",
      "Epoch 95/100\n",
      "77/77 [==============================] - 0s 3ms/step - loss: 0.5269 - accuracy: 0.7705\n",
      "Epoch 96/100\n",
      "77/77 [==============================] - 0s 4ms/step - loss: 0.5311 - accuracy: 0.7405\n",
      "Epoch 97/100\n",
      "77/77 [==============================] - 0s 4ms/step - loss: 0.5305 - accuracy: 0.7419\n",
      "Epoch 98/100\n",
      "77/77 [==============================] - 0s 3ms/step - loss: 0.5193 - accuracy: 0.7419\n",
      "Epoch 99/100\n",
      "77/77 [==============================] - 0s 4ms/step - loss: 0.5176 - accuracy: 0.7510\n",
      "Epoch 100/100\n",
      "77/77 [==============================] - 0s 4ms/step - loss: 0.5243 - accuracy: 0.7471\n"
     ]
    },
    {
     "data": {
      "text/plain": [
       "<keras.callbacks.History at 0x21af569a700>"
      ]
     },
     "execution_count": 13,
     "metadata": {},
     "output_type": "execute_result"
    }
   ],
   "source": [
    "model.compile(loss=\"binary_crossentropy\",optimizer=\"adam\",metrics=\"accuracy\")\n",
    "model.fit(X,y,epochs=100,batch_size=10)"
   ]
  },
  {
   "cell_type": "code",
   "execution_count": 14,
   "id": "238e55af",
   "metadata": {},
   "outputs": [
    {
     "name": "stdout",
     "output_type": "stream",
     "text": [
      "18/18 [==============================] - 0s 4ms/step - loss: 0.7436 - accuracy: 0.6539\n"
     ]
    },
    {
     "data": {
      "text/plain": [
       "[0.7436472773551941, 0.6539130210876465]"
      ]
     },
     "execution_count": 14,
     "metadata": {},
     "output_type": "execute_result"
    }
   ],
   "source": [
    "eval_model_for_trainingData=model.evaluate(X_train, y_train)\n",
    "eval_model_for_trainingData"
   ]
  },
  {
   "cell_type": "code",
   "execution_count": 15,
   "id": "97d8dccc",
   "metadata": {},
   "outputs": [
    {
     "name": "stdout",
     "output_type": "stream",
     "text": [
      "6/6 [==============================] - 0s 8ms/step - loss: 0.7122 - accuracy: 0.6458\n"
     ]
    },
    {
     "data": {
      "text/plain": [
       "[0.7122265696525574, 0.6458333134651184]"
      ]
     },
     "execution_count": 15,
     "metadata": {},
     "output_type": "execute_result"
    }
   ],
   "source": [
    "eval_model_for_testData=model.evaluate(X_test, y_test)\n",
    "eval_model_for_testData"
   ]
  },
  {
   "cell_type": "code",
   "execution_count": 16,
   "id": "021f02be",
   "metadata": {},
   "outputs": [
    {
     "name": "stdout",
     "output_type": "stream",
     "text": [
      "6/6 [==============================] - 0s 4ms/step\n"
     ]
    }
   ],
   "source": [
    "y_pred=model.predict(X_test)\n",
    "y_pred =(y_pred>0.5)"
   ]
  },
  {
   "cell_type": "markdown",
   "id": "7a33b149",
   "metadata": {},
   "source": [
    "### Model evaluation"
   ]
  },
  {
   "cell_type": "code",
   "execution_count": 17,
   "id": "5df5f7e2",
   "metadata": {},
   "outputs": [
    {
     "name": "stdout",
     "output_type": "stream",
     "text": [
      "[[124   0]\n",
      " [ 68   0]]\n"
     ]
    }
   ],
   "source": [
    "from sklearn.metrics import confusion_matrix\n",
    "cm = confusion_matrix(y_test, y_pred)\n",
    "print(cm)"
   ]
  }
 ],
 "metadata": {
  "kernelspec": {
   "display_name": "Python 3 (ipykernel)",
   "language": "python",
   "name": "python3"
  },
  "language_info": {
   "codemirror_mode": {
    "name": "ipython",
    "version": 3
   },
   "file_extension": ".py",
   "mimetype": "text/x-python",
   "name": "python",
   "nbconvert_exporter": "python",
   "pygments_lexer": "ipython3",
   "version": "3.9.12"
  },
  "latex_envs": {
   "LaTeX_envs_menu_present": true,
   "autoclose": false,
   "autocomplete": true,
   "bibliofile": "biblio.bib",
   "cite_by": "apalike",
   "current_citInitial": 1,
   "eqLabelWithNumbers": true,
   "eqNumInitial": 1,
   "hotkeys": {
    "equation": "Ctrl-E",
    "itemize": "Ctrl-I"
   },
   "labels_anchors": false,
   "latex_user_defs": false,
   "report_style_numbering": false,
   "user_envs_cfg": false
  },
  "varInspector": {
   "cols": {
    "lenName": 16,
    "lenType": 16,
    "lenVar": 40
   },
   "kernels_config": {
    "python": {
     "delete_cmd_postfix": "",
     "delete_cmd_prefix": "del ",
     "library": "var_list.py",
     "varRefreshCmd": "print(var_dic_list())"
    },
    "r": {
     "delete_cmd_postfix": ") ",
     "delete_cmd_prefix": "rm(",
     "library": "var_list.r",
     "varRefreshCmd": "cat(var_dic_list()) "
    }
   },
   "types_to_exclude": [
    "module",
    "function",
    "builtin_function_or_method",
    "instance",
    "_Feature"
   ],
   "window_display": false
  }
 },
 "nbformat": 4,
 "nbformat_minor": 5
}
